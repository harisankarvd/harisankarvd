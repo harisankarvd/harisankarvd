{
 "cells": [
  {
   "attachments": {},
   "cell_type": "markdown",
   "metadata": {},
   "source": [
    "<img src=\"head.jpg\" />"
   ]
  },
  {
   "attachments": {},
   "cell_type": "markdown",
   "metadata": {},
   "source": [
    "## Importing modules"
   ]
  },
  {
   "cell_type": "code",
   "execution_count": 87,
   "metadata": {},
   "outputs": [],
   "source": [
    "import pandas as pd\n",
    "import numpy as np\n",
    "import matplotlib.pyplot as plt\n",
    "import seaborn as sns\n",
    "import nltk\n",
    "plt.style.use('seaborn')"
   ]
  },
  {
   "attachments": {},
   "cell_type": "markdown",
   "metadata": {},
   "source": [
    "## Read the Dataset-><a href=\"https://data.world/opensnippets/amazon-mobile-phones-reviews\" target=\"_blank\">Here</a>"
   ]
  },
  {
   "cell_type": "code",
   "execution_count": 88,
   "metadata": {},
   "outputs": [
    {
     "name": "stdout",
     "output_type": "stream",
     "text": [
      "No. of Row : 30612 \n",
      "No. of Cols : 20\n"
     ]
    }
   ],
   "source": [
    "df = pd.read_json('amazon_oneplus.json')\n",
    "print(\"No. of Row :\",df.shape[0],\"\\nNo. of Cols :\",df.shape[1])"
   ]
  },
  {
   "attachments": {},
   "cell_type": "markdown",
   "metadata": {},
   "source": [
    "## Performing EDA"
   ]
  },
  {
   "cell_type": "code",
   "execution_count": 89,
   "metadata": {},
   "outputs": [
    {
     "data": {
      "text/html": [
       "<div>\n",
       "<style scoped>\n",
       "    .dataframe tbody tr th:only-of-type {\n",
       "        vertical-align: middle;\n",
       "    }\n",
       "\n",
       "    .dataframe tbody tr th {\n",
       "        vertical-align: top;\n",
       "    }\n",
       "\n",
       "    .dataframe thead th {\n",
       "        text-align: right;\n",
       "    }\n",
       "</style>\n",
       "<table border=\"1\" class=\"dataframe\">\n",
       "  <thead>\n",
       "    <tr style=\"text-align: right;\">\n",
       "      <th></th>\n",
       "      <th>product</th>\n",
       "      <th>product_company</th>\n",
       "      <th>profile_name</th>\n",
       "      <th>review_title</th>\n",
       "      <th>review_rating</th>\n",
       "      <th>review_text</th>\n",
       "      <th>helpful_count</th>\n",
       "      <th>total_comments</th>\n",
       "      <th>review_country</th>\n",
       "      <th>reviewed_at</th>\n",
       "      <th>url</th>\n",
       "      <th>crawled_at</th>\n",
       "      <th>_id</th>\n",
       "      <th>verified_purchase</th>\n",
       "      <th>color</th>\n",
       "      <th>style_name</th>\n",
       "      <th>size_name</th>\n",
       "      <th>category</th>\n",
       "      <th>sub_category</th>\n",
       "      <th>images</th>\n",
       "    </tr>\n",
       "  </thead>\n",
       "  <tbody>\n",
       "    <tr>\n",
       "      <th>0</th>\n",
       "      <td>OnePlus Nord 5G (Gray Onyx, 8GB RAM, 128GB Sto...</td>\n",
       "      <td>OnePlus</td>\n",
       "      <td>Nikhil</td>\n",
       "      <td>*Read before you buy!!*</td>\n",
       "      <td>5.0 out of 5 stars</td>\n",
       "      <td>\\n  Yea..pre-ordered on 28 July, got it on 4 A...</td>\n",
       "      <td>721 people found this helpful</td>\n",
       "      <td>3</td>\n",
       "      <td>India</td>\n",
       "      <td>2020-08-04</td>\n",
       "      <td>https://www.amazon.in/product-reviews/B08695ZS...</td>\n",
       "      <td>2020-10-18 11:23:47</td>\n",
       "      <td>45ca015a-2e39-5650-a174-ba966dd1e51f</td>\n",
       "      <td>Verified Purchase</td>\n",
       "      <td>Marble Blue</td>\n",
       "      <td>8GB RAM + 128GB Storage</td>\n",
       "      <td>na</td>\n",
       "      <td>electronics</td>\n",
       "      <td>mobiles</td>\n",
       "      <td>[https://images-na.ssl-images-amazon.com/image...</td>\n",
       "    </tr>\n",
       "    <tr>\n",
       "      <th>1</th>\n",
       "      <td>OnePlus Nord 5G (Gray Onyx, 8GB RAM, 128GB Sto...</td>\n",
       "      <td>OnePlus</td>\n",
       "      <td>Amit</td>\n",
       "      <td>Near to mid range  Perfection</td>\n",
       "      <td>5.0 out of 5 stars</td>\n",
       "      <td>\\n  Got it delivered yesterday , used for abou...</td>\n",
       "      <td>436 people found this helpful</td>\n",
       "      <td>1</td>\n",
       "      <td>India</td>\n",
       "      <td>2020-08-03</td>\n",
       "      <td>https://www.amazon.in/product-reviews/B08695ZS...</td>\n",
       "      <td>2020-10-18 11:23:47</td>\n",
       "      <td>6820f8ae-f3cd-5783-b826-5e5805376047</td>\n",
       "      <td>Verified Purchase</td>\n",
       "      <td>na</td>\n",
       "      <td>na</td>\n",
       "      <td>na</td>\n",
       "      <td>electronics</td>\n",
       "      <td>mobiles</td>\n",
       "      <td>[]</td>\n",
       "    </tr>\n",
       "    <tr>\n",
       "      <th>2</th>\n",
       "      <td>OnePlus Nord 5G (Gray Onyx, 8GB RAM, 128GB Sto...</td>\n",
       "      <td>OnePlus</td>\n",
       "      <td>aishwarya</td>\n",
       "      <td>Great price!</td>\n",
       "      <td>5.0 out of 5 stars</td>\n",
       "      <td>\\n  An amazing phone!</td>\n",
       "      <td>322 people found this helpful</td>\n",
       "      <td>1</td>\n",
       "      <td>India</td>\n",
       "      <td>2020-08-04</td>\n",
       "      <td>https://www.amazon.in/product-reviews/B08695ZS...</td>\n",
       "      <td>2020-10-18 11:23:47</td>\n",
       "      <td>bea91c43-8d65-5ef5-ab04-595a5f5cc542</td>\n",
       "      <td>Verified Purchase</td>\n",
       "      <td>na</td>\n",
       "      <td>na</td>\n",
       "      <td>na</td>\n",
       "      <td>electronics</td>\n",
       "      <td>mobiles</td>\n",
       "      <td>[https://images-na.ssl-images-amazon.com/image...</td>\n",
       "    </tr>\n",
       "    <tr>\n",
       "      <th>3</th>\n",
       "      <td>OnePlus Nord 5G (Gray Onyx, 8GB RAM, 128GB Sto...</td>\n",
       "      <td>OnePlus</td>\n",
       "      <td>vasu a.</td>\n",
       "      <td>Beast in OnePlus.</td>\n",
       "      <td>5.0 out of 5 stars</td>\n",
       "      <td>\\n  Brilliant..</td>\n",
       "      <td>243 people found this helpful</td>\n",
       "      <td>7</td>\n",
       "      <td>India</td>\n",
       "      <td>2020-08-02</td>\n",
       "      <td>https://www.amazon.in/product-reviews/B08695ZS...</td>\n",
       "      <td>2020-10-18 11:23:47</td>\n",
       "      <td>76f68b53-5c52-56b2-9727-a5ab8c4bb4ff</td>\n",
       "      <td>Verified Purchase</td>\n",
       "      <td>na</td>\n",
       "      <td>na</td>\n",
       "      <td>na</td>\n",
       "      <td>electronics</td>\n",
       "      <td>mobiles</td>\n",
       "      <td>[https://images-na.ssl-images-amazon.com/image...</td>\n",
       "    </tr>\n",
       "    <tr>\n",
       "      <th>4</th>\n",
       "      <td>OnePlus Nord 5G (Gray Onyx, 8GB RAM, 128GB Sto...</td>\n",
       "      <td>OnePlus</td>\n",
       "      <td>Amazon Customer</td>\n",
       "      <td>Changed to Nord from 6t</td>\n",
       "      <td>5.0 out of 5 stars</td>\n",
       "      <td>\\n  I was skeptical about changing from One pl...</td>\n",
       "      <td>109 people found this helpful</td>\n",
       "      <td>2</td>\n",
       "      <td>India</td>\n",
       "      <td>2020-08-04</td>\n",
       "      <td>https://www.amazon.in/product-reviews/B08695ZS...</td>\n",
       "      <td>2020-10-18 11:23:47</td>\n",
       "      <td>22228681-b884-56a1-b04e-87167f6f76e6</td>\n",
       "      <td>Verified Purchase</td>\n",
       "      <td>na</td>\n",
       "      <td>na</td>\n",
       "      <td>na</td>\n",
       "      <td>electronics</td>\n",
       "      <td>mobiles</td>\n",
       "      <td>[]</td>\n",
       "    </tr>\n",
       "  </tbody>\n",
       "</table>\n",
       "</div>"
      ],
      "text/plain": [
       "                                             product product_company  \\\n",
       "0  OnePlus Nord 5G (Gray Onyx, 8GB RAM, 128GB Sto...         OnePlus   \n",
       "1  OnePlus Nord 5G (Gray Onyx, 8GB RAM, 128GB Sto...         OnePlus   \n",
       "2  OnePlus Nord 5G (Gray Onyx, 8GB RAM, 128GB Sto...         OnePlus   \n",
       "3  OnePlus Nord 5G (Gray Onyx, 8GB RAM, 128GB Sto...         OnePlus   \n",
       "4  OnePlus Nord 5G (Gray Onyx, 8GB RAM, 128GB Sto...         OnePlus   \n",
       "\n",
       "      profile_name                   review_title       review_rating  \\\n",
       "0           Nikhil        *Read before you buy!!*  5.0 out of 5 stars   \n",
       "1             Amit  Near to mid range  Perfection  5.0 out of 5 stars   \n",
       "2        aishwarya                   Great price!  5.0 out of 5 stars   \n",
       "3          vasu a.              Beast in OnePlus.  5.0 out of 5 stars   \n",
       "4  Amazon Customer        Changed to Nord from 6t  5.0 out of 5 stars   \n",
       "\n",
       "                                         review_text  \\\n",
       "0  \\n  Yea..pre-ordered on 28 July, got it on 4 A...   \n",
       "1  \\n  Got it delivered yesterday , used for abou...   \n",
       "2                              \\n  An amazing phone!   \n",
       "3                                    \\n  Brilliant..   \n",
       "4  \\n  I was skeptical about changing from One pl...   \n",
       "\n",
       "                   helpful_count  total_comments review_country reviewed_at  \\\n",
       "0  721 people found this helpful               3         India   2020-08-04   \n",
       "1  436 people found this helpful               1         India   2020-08-03   \n",
       "2  322 people found this helpful               1         India   2020-08-04   \n",
       "3  243 people found this helpful               7         India   2020-08-02   \n",
       "4  109 people found this helpful               2         India   2020-08-04   \n",
       "\n",
       "                                                 url          crawled_at  \\\n",
       "0  https://www.amazon.in/product-reviews/B08695ZS... 2020-10-18 11:23:47   \n",
       "1  https://www.amazon.in/product-reviews/B08695ZS... 2020-10-18 11:23:47   \n",
       "2  https://www.amazon.in/product-reviews/B08695ZS... 2020-10-18 11:23:47   \n",
       "3  https://www.amazon.in/product-reviews/B08695ZS... 2020-10-18 11:23:47   \n",
       "4  https://www.amazon.in/product-reviews/B08695ZS... 2020-10-18 11:23:47   \n",
       "\n",
       "                                    _id  verified_purchase         color  \\\n",
       "0  45ca015a-2e39-5650-a174-ba966dd1e51f  Verified Purchase   Marble Blue   \n",
       "1  6820f8ae-f3cd-5783-b826-5e5805376047  Verified Purchase            na   \n",
       "2  bea91c43-8d65-5ef5-ab04-595a5f5cc542  Verified Purchase            na   \n",
       "3  76f68b53-5c52-56b2-9727-a5ab8c4bb4ff  Verified Purchase            na   \n",
       "4  22228681-b884-56a1-b04e-87167f6f76e6  Verified Purchase            na   \n",
       "\n",
       "                 style_name size_name     category sub_category  \\\n",
       "0   8GB RAM + 128GB Storage        na  electronics      mobiles   \n",
       "1                        na        na  electronics      mobiles   \n",
       "2                        na        na  electronics      mobiles   \n",
       "3                        na        na  electronics      mobiles   \n",
       "4                        na        na  electronics      mobiles   \n",
       "\n",
       "                                              images  \n",
       "0  [https://images-na.ssl-images-amazon.com/image...  \n",
       "1                                                 []  \n",
       "2  [https://images-na.ssl-images-amazon.com/image...  \n",
       "3  [https://images-na.ssl-images-amazon.com/image...  \n",
       "4                                                 []  "
      ]
     },
     "execution_count": 89,
     "metadata": {},
     "output_type": "execute_result"
    }
   ],
   "source": [
    "df.head(5)"
   ]
  },
  {
   "cell_type": "code",
   "execution_count": 90,
   "metadata": {},
   "outputs": [
    {
     "data": {
      "text/plain": [
       "array(['OnePlus', 'Redmi'], dtype=object)"
      ]
     },
     "execution_count": 90,
     "metadata": {},
     "output_type": "execute_result"
    }
   ],
   "source": [
    "df.product_company.unique()"
   ]
  },
  {
   "cell_type": "code",
   "execution_count": 91,
   "metadata": {},
   "outputs": [
    {
     "name": "stderr",
     "output_type": "stream",
     "text": [
      "C:\\Users\\Dell\\AppData\\Local\\Temp\\ipykernel_7788\\2580767222.py:3: FutureWarning:\n",
      "\n",
      "The frame.append method is deprecated and will be removed from pandas in a future version. Use pandas.concat instead.\n",
      "\n"
     ]
    }
   ],
   "source": [
    "df1 = df[df['product_company'] == 'OnePlus'].sample(250)\n",
    "df2 = df[df['product_company'] == 'Redmi'].sample(250)\n",
    "t=df1.append(df2, ignore_index=True)\n",
    "df=t\n",
    "df['Id'] = range(1, len(df) + 1)"
   ]
  },
  {
   "cell_type": "code",
   "execution_count": 92,
   "metadata": {},
   "outputs": [
    {
     "data": {
      "text/html": [
       "<div>\n",
       "<style scoped>\n",
       "    .dataframe tbody tr th:only-of-type {\n",
       "        vertical-align: middle;\n",
       "    }\n",
       "\n",
       "    .dataframe tbody tr th {\n",
       "        vertical-align: top;\n",
       "    }\n",
       "\n",
       "    .dataframe thead th {\n",
       "        text-align: right;\n",
       "    }\n",
       "</style>\n",
       "<table border=\"1\" class=\"dataframe\">\n",
       "  <thead>\n",
       "    <tr style=\"text-align: right;\">\n",
       "      <th></th>\n",
       "      <th>Id</th>\n",
       "      <th>product_company</th>\n",
       "      <th>profile_name</th>\n",
       "      <th>reviewed_at</th>\n",
       "      <th>review_title</th>\n",
       "      <th>review_rating</th>\n",
       "      <th>review_text</th>\n",
       "    </tr>\n",
       "  </thead>\n",
       "  <tbody>\n",
       "    <tr>\n",
       "      <th>0</th>\n",
       "      <td>1</td>\n",
       "      <td>OnePlus</td>\n",
       "      <td>suraj t.</td>\n",
       "      <td>2020-09-23</td>\n",
       "      <td>Oneplus</td>\n",
       "      <td>5.0 out of 5 stars</td>\n",
       "      <td>\\n  Awesome phone\\n</td>\n",
       "    </tr>\n",
       "    <tr>\n",
       "      <th>1</th>\n",
       "      <td>2</td>\n",
       "      <td>OnePlus</td>\n",
       "      <td>Asvin Kannan</td>\n",
       "      <td>2020-08-31</td>\n",
       "      <td>2020 best smartphone</td>\n",
       "      <td>4.0 out of 5 stars</td>\n",
       "      <td>\\n  One Plus nord is great phone it's havin eq...</td>\n",
       "    </tr>\n",
       "  </tbody>\n",
       "</table>\n",
       "</div>"
      ],
      "text/plain": [
       "   Id product_company  profile_name reviewed_at          review_title  \\\n",
       "0   1         OnePlus      suraj t.  2020-09-23               Oneplus   \n",
       "1   2         OnePlus  Asvin Kannan  2020-08-31  2020 best smartphone   \n",
       "\n",
       "        review_rating                                        review_text  \n",
       "0  5.0 out of 5 stars                                \\n  Awesome phone\\n  \n",
       "1  4.0 out of 5 stars  \\n  One Plus nord is great phone it's havin eq...  "
      ]
     },
     "execution_count": 92,
     "metadata": {},
     "output_type": "execute_result"
    }
   ],
   "source": [
    "df=t[['Id','product_company', 'profile_name','reviewed_at', 'review_title',\n",
    "       'review_rating', 'review_text']]\n",
    "df.head(2)"
   ]
  },
  {
   "cell_type": "code",
   "execution_count": 93,
   "metadata": {},
   "outputs": [
    {
     "name": "stderr",
     "output_type": "stream",
     "text": [
      "C:\\Users\\Dell\\AppData\\Local\\Temp\\ipykernel_7788\\526499662.py:1: SettingWithCopyWarning:\n",
      "\n",
      "\n",
      "A value is trying to be set on a copy of a slice from a DataFrame.\n",
      "Try using .loc[row_indexer,col_indexer] = value instead\n",
      "\n",
      "See the caveats in the documentation: https://pandas.pydata.org/pandas-docs/stable/user_guide/indexing.html#returning-a-view-versus-a-copy\n",
      "\n",
      "C:\\Users\\Dell\\AppData\\Local\\Temp\\ipykernel_7788\\526499662.py:5: FutureWarning:\n",
      "\n",
      "The default value of regex will change from True to False in a future version.\n",
      "\n"
     ]
    }
   ],
   "source": [
    "df[\"Review\"] = df[\"review_title\"] + df[\"review_text\"]\n",
    "df = df.drop(['review_title','review_text'], axis=1)\n",
    "\n",
    "df['Rating'] = df['review_rating'].apply(lambda x: x.split(' ')[0])\n",
    "df['Rating'] = df['Rating'].str.replace('.0', '')  \n",
    "df['Rating'] = df['Rating'].astype(int)\n",
    "\n",
    "df['year'] = df['reviewed_at'].dt.year\n",
    "\n",
    "df['Review'] = df['Review'].str.replace('\\n', '')\n",
    "\n",
    "df = df.drop(['review_rating','reviewed_at'], axis=1)"
   ]
  },
  {
   "cell_type": "code",
   "execution_count": 94,
   "metadata": {},
   "outputs": [
    {
     "name": "stdout",
     "output_type": "stream",
     "text": [
      "No. of Row : 500 \n",
      "No. of Cols : 6\n"
     ]
    }
   ],
   "source": [
    "print(\"No. of Row :\",df.shape[0],\"\\nNo. of Cols :\",df.shape[1])"
   ]
  },
  {
   "cell_type": "code",
   "execution_count": 95,
   "metadata": {},
   "outputs": [
    {
     "data": {
      "text/html": [
       "<div>\n",
       "<style scoped>\n",
       "    .dataframe tbody tr th:only-of-type {\n",
       "        vertical-align: middle;\n",
       "    }\n",
       "\n",
       "    .dataframe tbody tr th {\n",
       "        vertical-align: top;\n",
       "    }\n",
       "\n",
       "    .dataframe thead th {\n",
       "        text-align: right;\n",
       "    }\n",
       "</style>\n",
       "<table border=\"1\" class=\"dataframe\">\n",
       "  <thead>\n",
       "    <tr style=\"text-align: right;\">\n",
       "      <th></th>\n",
       "      <th>Id</th>\n",
       "      <th>product_company</th>\n",
       "      <th>profile_name</th>\n",
       "      <th>Review</th>\n",
       "      <th>Rating</th>\n",
       "      <th>year</th>\n",
       "    </tr>\n",
       "  </thead>\n",
       "  <tbody>\n",
       "    <tr>\n",
       "      <th>0</th>\n",
       "      <td>1</td>\n",
       "      <td>OnePlus</td>\n",
       "      <td>suraj t.</td>\n",
       "      <td>Oneplus  Awesome phone</td>\n",
       "      <td>5</td>\n",
       "      <td>2020</td>\n",
       "    </tr>\n",
       "    <tr>\n",
       "      <th>1</th>\n",
       "      <td>2</td>\n",
       "      <td>OnePlus</td>\n",
       "      <td>Asvin Kannan</td>\n",
       "      <td>2020 best smartphone  One Plus nord is great p...</td>\n",
       "      <td>4</td>\n",
       "      <td>2020</td>\n",
       "    </tr>\n",
       "    <tr>\n",
       "      <th>2</th>\n",
       "      <td>3</td>\n",
       "      <td>OnePlus</td>\n",
       "      <td>Sunil jaiswal</td>\n",
       "      <td>One plus nord for gaming  Inpubg network iisss...</td>\n",
       "      <td>5</td>\n",
       "      <td>2020</td>\n",
       "    </tr>\n",
       "    <tr>\n",
       "      <th>3</th>\n",
       "      <td>4</td>\n",
       "      <td>OnePlus</td>\n",
       "      <td>Srikar</td>\n",
       "      <td>One of the best products from OnePlus  Absolut...</td>\n",
       "      <td>5</td>\n",
       "      <td>2020</td>\n",
       "    </tr>\n",
       "    <tr>\n",
       "      <th>4</th>\n",
       "      <td>5</td>\n",
       "      <td>OnePlus</td>\n",
       "      <td>S</td>\n",
       "      <td>Gets heated up very fast  I used Google maps n...</td>\n",
       "      <td>1</td>\n",
       "      <td>2020</td>\n",
       "    </tr>\n",
       "  </tbody>\n",
       "</table>\n",
       "</div>"
      ],
      "text/plain": [
       "   Id product_company   profile_name  \\\n",
       "0   1         OnePlus       suraj t.   \n",
       "1   2         OnePlus   Asvin Kannan   \n",
       "2   3         OnePlus  Sunil jaiswal   \n",
       "3   4         OnePlus         Srikar   \n",
       "4   5         OnePlus              S   \n",
       "\n",
       "                                              Review  Rating  year  \n",
       "0                             Oneplus  Awesome phone       5  2020  \n",
       "1  2020 best smartphone  One Plus nord is great p...       4  2020  \n",
       "2  One plus nord for gaming  Inpubg network iisss...       5  2020  \n",
       "3  One of the best products from OnePlus  Absolut...       5  2020  \n",
       "4  Gets heated up very fast  I used Google maps n...       1  2020  "
      ]
     },
     "execution_count": 95,
     "metadata": {},
     "output_type": "execute_result"
    }
   ],
   "source": [
    "df.head()"
   ]
  },
  {
   "cell_type": "code",
   "execution_count": 96,
   "metadata": {},
   "outputs": [
    {
     "data": {
      "image/png": "[encoded data removed]",
      "text/plain": [
       "<Figure size 1080x576 with 1 Axes>"
      ]
     },
     "metadata": {},
     "output_type": "display_data"
    }
   ],
   "source": [
    "ax = df['Rating'].value_counts().sort_values(ascending=False) \\\n",
    "    .plot(kind='bar',\n",
    "          title='Count of Reviews by Rating',\n",
    "          figsize=(15, 8))\n",
    "ax.set_xlabel('Rathing out of five')\n",
    "plt.show()"
   ]
  },
  {
   "attachments": {},
   "cell_type": "markdown",
   "metadata": {},
   "source": [
    "Pie Plot"
   ]
  },
  {
   "cell_type": "code",
   "execution_count": 97,
   "metadata": {},
   "outputs": [
    {
     "data": {
      "application/vnd.plotly.v1+json": {
       "config": {
        "plotlyServerURL": "https://plot.ly"
       },
       "data": [
        {
         "domain": {
          "x": [
           0,
           1
          ],
          "y": [
           0,
           1
          ]
         },
         "hovertemplate": "label=%{label}<br>value=%{value}<extra></extra>",
         "labels": [
          2020,
          2019
         ],
         "legendgroup": "",
         "name": "",
         "showlegend": true,
         "type": "pie",
         "values": [
          463,
          37
         ]
        }
       ],
       "layout": {
        "legend": {
         "tracegroupgap": 0
        },
        "template": {
         "data": {
          "bar": [
           {
            "error_x": {
             "color": "#2a3f5f"
            },
            "error_y": {
             "color": "#2a3f5f"
            },
            "marker": {
             "line": {
              "color": "#E5ECF6",
              "width": 0.5
             },
             "pattern": {
              "fillmode": "overlay",
              "size": 10,
              "solidity": 0.2
             }
            },
            "type": "bar"
           }
          ],
          "barpolar": [
           {
            "marker": {
             "line": {
              "color": "#E5ECF6",
              "width": 0.5
             },
             "pattern": {
              "fillmode": "overlay",
              "size": 10,
              "solidity": 0.2
             }
            },
            "type": "barpolar"
           }
          ],
          "carpet": [
           {
            "aaxis": {
             "endlinecolor": "#2a3f5f",
             "gridcolor": "white",
             "linecolor": "white",
             "minorgridcolor": "white",
             "startlinecolor": "#2a3f5f"
            },
            "baxis": {
             "endlinecolor": "#2a3f5f",
             "gridcolor": "white",
             "linecolor": "white",
             "minorgridcolor": "white",
             "startlinecolor": "#2a3f5f"
            },
            "type": "carpet"
           }
          ],
          "choropleth": [
           {
            "colorbar": {
             "outlinewidth": 0,
             "ticks": ""
            },
            "type": "choropleth"
           }
          ],
          "contour": [
           {
            "colorbar": {
             "outlinewidth": 0,
             "ticks": ""
            },
            "colorscale": [
             [
              0,
              "#0d0887"
             ],
             [
              0.1111111111111111,
              "#46039f"
             ],
             [
              0.2222222222222222,
              "#7201a8"
             ],
             [
              0.3333333333333333,
              "#9c179e"
             ],
             [
              0.4444444444444444,
              "#bd3786"
             ],
             [
              0.5555555555555556,
              "#d8576b"
             ],
             [
              0.6666666666666666,
              "#ed7953"
             ],
             [
              0.7777777777777778,
              "#fb9f3a"
             ],
             [
              0.8888888888888888,
              "#fdca26"
             ],
             [
              1,
              "#f0f921"
             ]
            ],
            "type": "contour"
           }
          ],
          "contourcarpet": [
           {
            "colorbar": {
             "outlinewidth": 0,
             "ticks": ""
            },
            "type": "contourcarpet"
           }
          ],
          "heatmap": [
           {
            "colorbar": {
             "outlinewidth": 0,
             "ticks": ""
            },
            "colorscale": [
             [
              0,
              "#0d0887"
             ],
             [
              0.1111111111111111,
              "#46039f"
             ],
             [
              0.2222222222222222,
              "#7201a8"
             ],
             [
              0.3333333333333333,
              "#9c179e"
             ],
             [
              0.4444444444444444,
              "#bd3786"
             ],
             [
              0.5555555555555556,
              "#d8576b"
             ],
             [
              0.6666666666666666,
              "#ed7953"
             ],
             [
              0.7777777777777778,
              "#fb9f3a"
             ],
             [
              0.8888888888888888,
              "#fdca26"
             ],
             [
              1,
              "#f0f921"
             ]
            ],
            "type": "heatmap"
           }
          ],
          "heatmapgl": [
           {
            "colorbar": {
             "outlinewidth": 0,
             "ticks": ""
            },
            "colorscale": [
             [
              0,
              "#0d0887"
             ],
             [
              0.1111111111111111,
              "#46039f"
             ],
             [
              0.2222222222222222,
              "#7201a8"
             ],
             [
              0.3333333333333333,
              "#9c179e"
             ],
             [
              0.4444444444444444,
              "#bd3786"
             ],
             [
              0.5555555555555556,
              "#d8576b"
             ],
             [
              0.6666666666666666,
              "#ed7953"
             ],
             [
              0.7777777777777778,
              "#fb9f3a"
             ],
             [
              0.8888888888888888,
              "#fdca26"
             ],
             [
              1,
              "#f0f921"
             ]
            ],
            "type": "heatmapgl"
           }
          ],
          "histogram": [
           {
            "marker": {
             "pattern": {
              "fillmode": "overlay",
              "size": 10,
              "solidity": 0.2
             }
            },
            "type": "histogram"
           }
          ],
          "histogram2d": [
           {
            "colorbar": {
             "outlinewidth": 0,
             "ticks": ""
            },
            "colorscale": [
             [
              0,
              "#0d0887"
             ],
             [
              0.1111111111111111,
              "#46039f"
             ],
             [
              0.2222222222222222,
              "#7201a8"
             ],
             [
              0.3333333333333333,
              "#9c179e"
             ],
             [
              0.4444444444444444,
              "#bd3786"
             ],
             [
              0.5555555555555556,
              "#d8576b"
             ],
             [
              0.6666666666666666,
              "#ed7953"
             ],
             [
              0.7777777777777778,
              "#fb9f3a"
             ],
             [
              0.8888888888888888,
              "#fdca26"
             ],
             [
              1,
              "#f0f921"
             ]
            ],
            "type": "histogram2d"
           }
          ],
          "histogram2dcontour": [
           {
            "colorbar": {
             "outlinewidth": 0,
             "ticks": ""
            },
            "colorscale": [
             [
              0,
              "#0d0887"
             ],
             [
              0.1111111111111111,
              "#46039f"
             ],
             [
              0.2222222222222222,
              "#7201a8"
             ],
             [
              0.3333333333333333,
              "#9c179e"
             ],
             [
              0.4444444444444444,
              "#bd3786"
             ],
             [
              0.5555555555555556,
              "#d8576b"
             ],
             [
              0.6666666666666666,
              "#ed7953"
             ],
             [
              0.7777777777777778,
              "#fb9f3a"
             ],
             [
              0.8888888888888888,
              "#fdca26"
             ],
             [
              1,
              "#f0f921"
             ]
            ],
            "type": "histogram2dcontour"
           }
          ],
          "mesh3d": [
           {
            "colorbar": {
             "outlinewidth": 0,
             "ticks": ""
            },
            "type": "mesh3d"
           }
          ],
          "parcoords": [
           {
            "line": {
             "colorbar": {
              "outlinewidth": 0,
              "ticks": ""
             }
            },
            "type": "parcoords"
           }
          ],
          "pie": [
           {
            "automargin": true,
            "type": "pie"
           }
          ],
          "scatter": [
           {
            "fillpattern": {
             "fillmode": "overlay",
             "size": 10,
             "solidity": 0.2
            },
            "type": "scatter"
           }
          ],
          "scatter3d": [
           {
            "line": {
             "colorbar": {
              "outlinewidth": 0,
              "ticks": ""
             }
            },
            "marker": {
             "colorbar": {
              "outlinewidth": 0,
              "ticks": ""
             }
            },
            "type": "scatter3d"
           }
          ],
          "scattercarpet": [
           {
            "marker": {
             "colorbar": {
              "outlinewidth": 0,
              "ticks": ""
             }
            },
            "type": "scattercarpet"
           }
          ],
          "scattergeo": [
           {
            "marker": {
             "colorbar": {
              "outlinewidth": 0,
              "ticks": ""
             }
            },
            "type": "scattergeo"
           }
          ],
          "scattergl": [
           {
            "marker": {
             "colorbar": {
              "outlinewidth": 0,
              "ticks": ""
             }
            },
            "type": "scattergl"
           }
          ],
          "scattermapbox": [
           {
            "marker": {
             "colorbar": {
              "outlinewidth": 0,
              "ticks": ""
             }
            },
            "type": "scattermapbox"
           }
          ],
          "scatterpolar": [
           {
            "marker": {
             "colorbar": {
              "outlinewidth": 0,
              "ticks": ""
             }
            },
            "type": "scatterpolar"
           }
          ],
          "scatterpolargl": [
           {
            "marker": {
             "colorbar": {
              "outlinewidth": 0,
              "ticks": ""
             }
            },
            "type": "scatterpolargl"
           }
          ],
          "scatterternary": [
           {
            "marker": {
             "colorbar": {
              "outlinewidth": 0,
              "ticks": ""
             }
            },
            "type": "scatterternary"
           }
          ],
          "surface": [
           {
            "colorbar": {
             "outlinewidth": 0,
             "ticks": ""
            },
            "colorscale": [
             [
              0,
              "#0d0887"
             ],
             [
              0.1111111111111111,
              "#46039f"
             ],
             [
              0.2222222222222222,
              "#7201a8"
             ],
             [
              0.3333333333333333,
              "#9c179e"
             ],
             [
              0.4444444444444444,
              "#bd3786"
             ],
             [
              0.5555555555555556,
              "#d8576b"
             ],
             [
              0.6666666666666666,
              "#ed7953"
             ],
             [
              0.7777777777777778,
              "#fb9f3a"
             ],
             [
              0.8888888888888888,
              "#fdca26"
             ],
             [
              1,
              "#f0f921"
             ]
            ],
            "type": "surface"
           }
          ],
          "table": [
           {
            "cells": {
             "fill": {
              "color": "#EBF0F8"
             },
             "line": {
              "color": "white"
             }
            },
            "header": {
             "fill": {
              "color": "#C8D4E3"
             },
             "line": {
              "color": "white"
             }
            },
            "type": "table"
           }
          ]
         },
         "layout": {
          "annotationdefaults": {
           "arrowcolor": "#2a3f5f",
           "arrowhead": 0,
           "arrowwidth": 1
          },
          "autotypenumbers": "strict",
          "coloraxis": {
           "colorbar": {
            "outlinewidth": 0,
            "ticks": ""
           }
          },
          "colorscale": {
           "diverging": [
            [
             0,
             "#8e0152"
            ],
            [
             0.1,
             "#c51b7d"
            ],
            [
             0.2,
             "#de77ae"
            ],
            [
             0.3,
             "#f1b6da"
            ],
            [
             0.4,
             "#fde0ef"
            ],
            [
             0.5,
             "#f7f7f7"
            ],
            [
             0.6,
             "#e6f5d0"
            ],
            [
             0.7,
             "#b8e186"
            ],
            [
             0.8,
             "#7fbc41"
            ],
            [
             0.9,
             "#4d9221"
            ],
            [
             1,
             "#276419"
            ]
           ],
           "sequential": [
            [
             0,
             "#0d0887"
            ],
            [
             0.1111111111111111,
             "#46039f"
            ],
            [
             0.2222222222222222,
             "#7201a8"
            ],
            [
             0.3333333333333333,
             "#9c179e"
            ],
            [
             0.4444444444444444,
             "#bd3786"
            ],
            [
             0.5555555555555556,
             "#d8576b"
            ],
            [
             0.6666666666666666,
             "#ed7953"
            ],
            [
             0.7777777777777778,
             "#fb9f3a"
            ],
            [
             0.8888888888888888,
             "#fdca26"
            ],
            [
             1,
             "#f0f921"
            ]
           ],
           "sequentialminus": [
            [
             0,
             "#0d0887"
            ],
            [
             0.1111111111111111,
             "#46039f"
            ],
            [
             0.2222222222222222,
             "#7201a8"
            ],
            [
             0.3333333333333333,
             "#9c179e"
            ],
            [
             0.4444444444444444,
             "#bd3786"
            ],
            [
             0.5555555555555556,
             "#d8576b"
            ],
            [
             0.6666666666666666,
             "#ed7953"
            ],
            [
             0.7777777777777778,
             "#fb9f3a"
            ],
            [
             0.8888888888888888,
             "#fdca26"
            ],
            [
             1,
             "#f0f921"
            ]
           ]
          },
          "colorway": [
           "#636efa",
           "#EF553B",
           "#00cc96",
           "#ab63fa",
           "#FFA15A",
           "#19d3f3",
           "#FF6692",
           "#B6E880",
           "#FF97FF",
           "#FECB52"
          ],
          "font": {
           "color": "#2a3f5f"
          },
          "geo": {
           "bgcolor": "white",
           "lakecolor": "white",
           "landcolor": "#E5ECF6",
           "showlakes": true,
           "showland": true,
           "subunitcolor": "white"
          },
          "hoverlabel": {
           "align": "left"
          },
          "hovermode": "closest",
          "mapbox": {
           "style": "light"
          },
          "paper_bgcolor": "white",
          "plot_bgcolor": "#E5ECF6",
          "polar": {
           "angularaxis": {
            "gridcolor": "white",
            "linecolor": "white",
            "ticks": ""
           },
           "bgcolor": "#E5ECF6",
           "radialaxis": {
            "gridcolor": "white",
            "linecolor": "white",
            "ticks": ""
           }
          },
          "scene": {
           "xaxis": {
            "backgroundcolor": "#E5ECF6",
            "gridcolor": "white",
            "gridwidth": 2,
            "linecolor": "white",
            "showbackground": true,
            "ticks": "",
            "zerolinecolor": "white"
           },
           "yaxis": {
            "backgroundcolor": "#E5ECF6",
            "gridcolor": "white",
            "gridwidth": 2,
            "linecolor": "white",
            "showbackground": true,
            "ticks": "",
            "zerolinecolor": "white"
           },
           "zaxis": {
            "backgroundcolor": "#E5ECF6",
            "gridcolor": "white",
            "gridwidth": 2,
            "linecolor": "white",
            "showbackground": true,
            "ticks": "",
            "zerolinecolor": "white"
           }
          },
          "shapedefaults": {
           "line": {
            "color": "#2a3f5f"
           }
          },
          "ternary": {
           "aaxis": {
            "gridcolor": "white",
            "linecolor": "white",
            "ticks": ""
           },
           "baxis": {
            "gridcolor": "white",
            "linecolor": "white",
            "ticks": ""
           },
           "bgcolor": "#E5ECF6",
           "caxis": {
            "gridcolor": "white",
            "linecolor": "white",
            "ticks": ""
           }
          },
          "title": {
           "x": 0.05
          },
          "xaxis": {
           "automargin": true,
           "gridcolor": "white",
           "linecolor": "white",
           "ticks": "",
           "title": {
            "standoff": 15
           },
           "zerolinecolor": "white",
           "zerolinewidth": 2
          },
          "yaxis": {
           "automargin": true,
           "gridcolor": "white",
           "linecolor": "white",
           "ticks": "",
           "title": {
            "standoff": 15
           },
           "zerolinecolor": "white",
           "zerolinewidth": 2
          }
         }
        },
        "title": {
         "text": "Year vs Reviews"
        }
       }
      }
     },
     "metadata": {},
     "output_type": "display_data"
    }
   ],
   "source": [
    "import plotly.express as px\n",
    "counts = df['year'].value_counts()\n",
    "fig = px.pie(values=counts, names=counts.index, title='Year vs Reviews')\n",
    "fig.show()\n"
   ]
  },
  {
   "attachments": {},
   "cell_type": "markdown",
   "metadata": {},
   "source": [
    "Review with Rating 5"
   ]
  },
  {
   "cell_type": "code",
   "execution_count": 98,
   "metadata": {},
   "outputs": [
    {
     "data": {
      "text/html": [
       "<div>\n",
       "<style scoped>\n",
       "    .dataframe tbody tr th:only-of-type {\n",
       "        vertical-align: middle;\n",
       "    }\n",
       "\n",
       "    .dataframe tbody tr th {\n",
       "        vertical-align: top;\n",
       "    }\n",
       "\n",
       "    .dataframe thead th {\n",
       "        text-align: right;\n",
       "    }\n",
       "</style>\n",
       "<table border=\"1\" class=\"dataframe\">\n",
       "  <thead>\n",
       "    <tr style=\"text-align: right;\">\n",
       "      <th></th>\n",
       "      <th>Id</th>\n",
       "      <th>product_company</th>\n",
       "      <th>profile_name</th>\n",
       "      <th>Review</th>\n",
       "      <th>Rating</th>\n",
       "      <th>year</th>\n",
       "    </tr>\n",
       "  </thead>\n",
       "  <tbody>\n",
       "    <tr>\n",
       "      <th>0</th>\n",
       "      <td>1</td>\n",
       "      <td>OnePlus</td>\n",
       "      <td>suraj t.</td>\n",
       "      <td>Oneplus  Awesome phone</td>\n",
       "      <td>5</td>\n",
       "      <td>2020</td>\n",
       "    </tr>\n",
       "    <tr>\n",
       "      <th>2</th>\n",
       "      <td>3</td>\n",
       "      <td>OnePlus</td>\n",
       "      <td>Sunil jaiswal</td>\n",
       "      <td>One plus nord for gaming  Inpubg network iisss...</td>\n",
       "      <td>5</td>\n",
       "      <td>2020</td>\n",
       "    </tr>\n",
       "    <tr>\n",
       "      <th>3</th>\n",
       "      <td>4</td>\n",
       "      <td>OnePlus</td>\n",
       "      <td>Srikar</td>\n",
       "      <td>One of the best products from OnePlus  Absolut...</td>\n",
       "      <td>5</td>\n",
       "      <td>2020</td>\n",
       "    </tr>\n",
       "    <tr>\n",
       "      <th>6</th>\n",
       "      <td>7</td>\n",
       "      <td>OnePlus</td>\n",
       "      <td>Amazon Customer</td>\n",
       "      <td>Good  Good</td>\n",
       "      <td>5</td>\n",
       "      <td>2020</td>\n",
       "    </tr>\n",
       "    <tr>\n",
       "      <th>9</th>\n",
       "      <td>10</td>\n",
       "      <td>OnePlus</td>\n",
       "      <td>Mahesh Chand Meena</td>\n",
       "      <td>Nice camera quality.good product  Very good pr...</td>\n",
       "      <td>5</td>\n",
       "      <td>2020</td>\n",
       "    </tr>\n",
       "    <tr>\n",
       "      <th>...</th>\n",
       "      <td>...</td>\n",
       "      <td>...</td>\n",
       "      <td>...</td>\n",
       "      <td>...</td>\n",
       "      <td>...</td>\n",
       "      <td>...</td>\n",
       "    </tr>\n",
       "    <tr>\n",
       "      <th>486</th>\n",
       "      <td>487</td>\n",
       "      <td>Redmi</td>\n",
       "      <td>VINIT YADAV</td>\n",
       "      <td>Under 24 for hours delivered fantastic 👍👍  I l...</td>\n",
       "      <td>5</td>\n",
       "      <td>2020</td>\n",
       "    </tr>\n",
       "    <tr>\n",
       "      <th>489</th>\n",
       "      <td>490</td>\n",
       "      <td>Redmi</td>\n",
       "      <td>Robin Buthello</td>\n",
       "      <td>Excellent 👌 product must buy  Xiaomi Redmi Not...</td>\n",
       "      <td>5</td>\n",
       "      <td>2020</td>\n",
       "    </tr>\n",
       "    <tr>\n",
       "      <th>491</th>\n",
       "      <td>492</td>\n",
       "      <td>Redmi</td>\n",
       "      <td>Prathamesh</td>\n",
       "      <td>Best  Very good and low budget phone</td>\n",
       "      <td>5</td>\n",
       "      <td>2020</td>\n",
       "    </tr>\n",
       "    <tr>\n",
       "      <th>494</th>\n",
       "      <td>495</td>\n",
       "      <td>Redmi</td>\n",
       "      <td>Muthukumaran</td>\n",
       "      <td>Breathtaking!  Best ever phone under 10k</td>\n",
       "      <td>5</td>\n",
       "      <td>2019</td>\n",
       "    </tr>\n",
       "    <tr>\n",
       "      <th>497</th>\n",
       "      <td>498</td>\n",
       "      <td>Redmi</td>\n",
       "      <td>Rose M.</td>\n",
       "      <td>Value for money  Sleek.... beautiful colour......</td>\n",
       "      <td>5</td>\n",
       "      <td>2020</td>\n",
       "    </tr>\n",
       "  </tbody>\n",
       "</table>\n",
       "<p>230 rows × 6 columns</p>\n",
       "</div>"
      ],
      "text/plain": [
       "      Id product_company        profile_name  \\\n",
       "0      1         OnePlus            suraj t.   \n",
       "2      3         OnePlus       Sunil jaiswal   \n",
       "3      4         OnePlus              Srikar   \n",
       "6      7         OnePlus     Amazon Customer   \n",
       "9     10         OnePlus  Mahesh Chand Meena   \n",
       "..   ...             ...                 ...   \n",
       "486  487           Redmi         VINIT YADAV   \n",
       "489  490           Redmi      Robin Buthello   \n",
       "491  492           Redmi          Prathamesh   \n",
       "494  495           Redmi        Muthukumaran   \n",
       "497  498           Redmi             Rose M.   \n",
       "\n",
       "                                                Review  Rating  year  \n",
       "0                               Oneplus  Awesome phone       5  2020  \n",
       "2    One plus nord for gaming  Inpubg network iisss...       5  2020  \n",
       "3    One of the best products from OnePlus  Absolut...       5  2020  \n",
       "6                                           Good  Good       5  2020  \n",
       "9    Nice camera quality.good product  Very good pr...       5  2020  \n",
       "..                                                 ...     ...   ...  \n",
       "486  Under 24 for hours delivered fantastic 👍👍  I l...       5  2020  \n",
       "489  Excellent 👌 product must buy  Xiaomi Redmi Not...       5  2020  \n",
       "491               Best  Very good and low budget phone       5  2020  \n",
       "494           Breathtaking!  Best ever phone under 10k       5  2019  \n",
       "497  Value for money  Sleek.... beautiful colour......       5  2020  \n",
       "\n",
       "[230 rows x 6 columns]"
      ]
     },
     "execution_count": 98,
     "metadata": {},
     "output_type": "execute_result"
    }
   ],
   "source": [
    "df[df['Rating'] ==5]"
   ]
  },
  {
   "cell_type": "code",
   "execution_count": 103,
   "metadata": {},
   "outputs": [
    {
     "data": {
      "text/plain": [
       "230"
      ]
     },
     "execution_count": 103,
     "metadata": {},
     "output_type": "execute_result"
    }
   ],
   "source": [
    "df[df['Rating'] ==5].count()[0]"
   ]
  },
  {
   "attachments": {},
   "cell_type": "markdown",
   "metadata": {},
   "source": [
    "Taking a Positive Sample"
   ]
  },
  {
   "cell_type": "code",
   "execution_count": 104,
   "metadata": {},
   "outputs": [
    {
     "name": "stdout",
     "output_type": "stream",
     "text": [
      "Nice camera quality.good product  Very good product.nice camera quality.\n"
     ]
    }
   ],
   "source": [
    "pexample = df['Review'][9]\n",
    "print(pexample)"
   ]
  },
  {
   "attachments": {},
   "cell_type": "markdown",
   "metadata": {},
   "source": [
    "Review with Rating 1"
   ]
  },
  {
   "cell_type": "code",
   "execution_count": 101,
   "metadata": {},
   "outputs": [
    {
     "data": {
      "text/html": [
       "<div>\n",
       "<style scoped>\n",
       "    .dataframe tbody tr th:only-of-type {\n",
       "        vertical-align: middle;\n",
       "    }\n",
       "\n",
       "    .dataframe tbody tr th {\n",
       "        vertical-align: top;\n",
       "    }\n",
       "\n",
       "    .dataframe thead th {\n",
       "        text-align: right;\n",
       "    }\n",
       "</style>\n",
       "<table border=\"1\" class=\"dataframe\">\n",
       "  <thead>\n",
       "    <tr style=\"text-align: right;\">\n",
       "      <th></th>\n",
       "      <th>Id</th>\n",
       "      <th>product_company</th>\n",
       "      <th>profile_name</th>\n",
       "      <th>Review</th>\n",
       "      <th>Rating</th>\n",
       "      <th>year</th>\n",
       "    </tr>\n",
       "  </thead>\n",
       "  <tbody>\n",
       "    <tr>\n",
       "      <th>4</th>\n",
       "      <td>5</td>\n",
       "      <td>OnePlus</td>\n",
       "      <td>S</td>\n",
       "      <td>Gets heated up very fast  I used Google maps n...</td>\n",
       "      <td>1</td>\n",
       "      <td>2020</td>\n",
       "    </tr>\n",
       "    <tr>\n",
       "      <th>15</th>\n",
       "      <td>16</td>\n",
       "      <td>OnePlus</td>\n",
       "      <td>Sameer Kazi</td>\n",
       "      <td>Waste of money  Don't buy this phone..got this...</td>\n",
       "      <td>1</td>\n",
       "      <td>2020</td>\n",
       "    </tr>\n",
       "    <tr>\n",
       "      <th>17</th>\n",
       "      <td>18</td>\n",
       "      <td>OnePlus</td>\n",
       "      <td>KN Babu</td>\n",
       "      <td>Useless  Phone is ok .but there is reboot prob...</td>\n",
       "      <td>1</td>\n",
       "      <td>2020</td>\n",
       "    </tr>\n",
       "    <tr>\n",
       "      <th>19</th>\n",
       "      <td>20</td>\n",
       "      <td>OnePlus</td>\n",
       "      <td>Amazon Customer</td>\n",
       "      <td>Waste  Overall not worth the money</td>\n",
       "      <td>1</td>\n",
       "      <td>2020</td>\n",
       "    </tr>\n",
       "    <tr>\n",
       "      <th>24</th>\n",
       "      <td>25</td>\n",
       "      <td>OnePlus</td>\n",
       "      <td>Unknown</td>\n",
       "      <td>Network issue  Phone is having some network is...</td>\n",
       "      <td>1</td>\n",
       "      <td>2020</td>\n",
       "    </tr>\n",
       "    <tr>\n",
       "      <th>26</th>\n",
       "      <td>27</td>\n",
       "      <td>OnePlus</td>\n",
       "      <td>kishore ippili</td>\n",
       "      <td>Not bad  Tuch is not proper</td>\n",
       "      <td>1</td>\n",
       "      <td>2020</td>\n",
       "    </tr>\n",
       "    <tr>\n",
       "      <th>50</th>\n",
       "      <td>51</td>\n",
       "      <td>OnePlus</td>\n",
       "      <td>SMIT</td>\n",
       "      <td>Do not buy mobile with amazon online ,worst mo...</td>\n",
       "      <td>1</td>\n",
       "      <td>2020</td>\n",
       "    </tr>\n",
       "    <tr>\n",
       "      <th>52</th>\n",
       "      <td>53</td>\n",
       "      <td>OnePlus</td>\n",
       "      <td>Rajai Bhavik</td>\n",
       "      <td>Display tint issue  Facing purple n green disp...</td>\n",
       "      <td>1</td>\n",
       "      <td>2020</td>\n",
       "    </tr>\n",
       "    <tr>\n",
       "      <th>54</th>\n",
       "      <td>55</td>\n",
       "      <td>OnePlus</td>\n",
       "      <td>deena</td>\n",
       "      <td>Camera quality not good  Camera quality not go...</td>\n",
       "      <td>1</td>\n",
       "      <td>2020</td>\n",
       "    </tr>\n",
       "    <tr>\n",
       "      <th>66</th>\n",
       "      <td>67</td>\n",
       "      <td>OnePlus</td>\n",
       "      <td>Amazon Customer</td>\n",
       "      <td>Battery Drain Issue  My OnePlus Nord mobile ha...</td>\n",
       "      <td>1</td>\n",
       "      <td>2020</td>\n",
       "    </tr>\n",
       "    <tr>\n",
       "      <th>68</th>\n",
       "      <td>69</td>\n",
       "      <td>OnePlus</td>\n",
       "      <td>Pankaj</td>\n",
       "      <td>Very poor  Very poor battery backup</td>\n",
       "      <td>1</td>\n",
       "      <td>2020</td>\n",
       "    </tr>\n",
       "    <tr>\n",
       "      <th>79</th>\n",
       "      <td>80</td>\n",
       "      <td>OnePlus</td>\n",
       "      <td>Raj</td>\n",
       "      <td>Not a good performer  This review comes out af...</td>\n",
       "      <td>1</td>\n",
       "      <td>2020</td>\n",
       "    </tr>\n",
       "    <tr>\n",
       "      <th>91</th>\n",
       "      <td>92</td>\n",
       "      <td>OnePlus</td>\n",
       "      <td>ONE PLUS NORD ISSUE</td>\n",
       "      <td>Wifi network connection issue  Wifi network co...</td>\n",
       "      <td>1</td>\n",
       "      <td>2020</td>\n",
       "    </tr>\n",
       "    <tr>\n",
       "      <th>92</th>\n",
       "      <td>93</td>\n",
       "      <td>OnePlus</td>\n",
       "      <td>Amazon Customer</td>\n",
       "      <td>Worst Phone Don't Buy  I am using dual  sims. ...</td>\n",
       "      <td>1</td>\n",
       "      <td>2020</td>\n",
       "    </tr>\n",
       "    <tr>\n",
       "      <th>99</th>\n",
       "      <td>100</td>\n",
       "      <td>OnePlus</td>\n",
       "      <td>yash srivastav</td>\n",
       "      <td>don't buy this phone  the phone crashed within...</td>\n",
       "      <td>1</td>\n",
       "      <td>2020</td>\n",
       "    </tr>\n",
       "    <tr>\n",
       "      <th>105</th>\n",
       "      <td>106</td>\n",
       "      <td>OnePlus</td>\n",
       "      <td>raju</td>\n",
       "      <td>Calling not clarity  I am not satisfied</td>\n",
       "      <td>1</td>\n",
       "      <td>2020</td>\n",
       "    </tr>\n",
       "    <tr>\n",
       "      <th>107</th>\n",
       "      <td>108</td>\n",
       "      <td>OnePlus</td>\n",
       "      <td>Harry</td>\n",
       "      <td>Totally waste of money  Rubbish camera quality</td>\n",
       "      <td>1</td>\n",
       "      <td>2020</td>\n",
       "    </tr>\n",
       "    <tr>\n",
       "      <th>132</th>\n",
       "      <td>133</td>\n",
       "      <td>OnePlus</td>\n",
       "      <td>pollam vinod yadav</td>\n",
       "      <td>Nord is a flop moblie it just created a hype  ...</td>\n",
       "      <td>1</td>\n",
       "      <td>2020</td>\n",
       "    </tr>\n",
       "    <tr>\n",
       "      <th>135</th>\n",
       "      <td>136</td>\n",
       "      <td>OnePlus</td>\n",
       "      <td>Harshita</td>\n",
       "      <td>Not happy with the product  Returning window o...</td>\n",
       "      <td>1</td>\n",
       "      <td>2020</td>\n",
       "    </tr>\n",
       "    <tr>\n",
       "      <th>140</th>\n",
       "      <td>141</td>\n",
       "      <td>OnePlus</td>\n",
       "      <td>Dr.Brijesh</td>\n",
       "      <td>Mobile Internet accessibility and Bluetooth is...</td>\n",
       "      <td>1</td>\n",
       "      <td>2020</td>\n",
       "    </tr>\n",
       "    <tr>\n",
       "      <th>145</th>\n",
       "      <td>146</td>\n",
       "      <td>OnePlus</td>\n",
       "      <td>CHETHANGOWDA NS</td>\n",
       "      <td>BATTERY BACKUP IS NOT GOOD  Mobile was super ,...</td>\n",
       "      <td>1</td>\n",
       "      <td>2020</td>\n",
       "    </tr>\n",
       "    <tr>\n",
       "      <th>158</th>\n",
       "      <td>159</td>\n",
       "      <td>OnePlus</td>\n",
       "      <td>Aneesh</td>\n",
       "      <td>Display issue and touch issue  I was charging ...</td>\n",
       "      <td>1</td>\n",
       "      <td>2020</td>\n",
       "    </tr>\n",
       "    <tr>\n",
       "      <th>165</th>\n",
       "      <td>166</td>\n",
       "      <td>OnePlus</td>\n",
       "      <td>Amazon Customer</td>\n",
       "      <td>👎  Bad Speakers</td>\n",
       "      <td>1</td>\n",
       "      <td>2020</td>\n",
       "    </tr>\n",
       "    <tr>\n",
       "      <th>179</th>\n",
       "      <td>180</td>\n",
       "      <td>OnePlus</td>\n",
       "      <td>Sunil Vishawkarma</td>\n",
       "      <td>Battery life is not good  Battery life is not ...</td>\n",
       "      <td>1</td>\n",
       "      <td>2020</td>\n",
       "    </tr>\n",
       "    <tr>\n",
       "      <th>182</th>\n",
       "      <td>183</td>\n",
       "      <td>OnePlus</td>\n",
       "      <td>Ajas thoufiq</td>\n",
       "      <td>Worst product from oneplus  Dont buy this phn</td>\n",
       "      <td>1</td>\n",
       "      <td>2020</td>\n",
       "    </tr>\n",
       "    <tr>\n",
       "      <th>184</th>\n",
       "      <td>185</td>\n",
       "      <td>OnePlus</td>\n",
       "      <td>Amazon Customer</td>\n",
       "      <td>Worst experience  Pls don't buy OnePlus device...</td>\n",
       "      <td>1</td>\n",
       "      <td>2020</td>\n",
       "    </tr>\n",
       "    <tr>\n",
       "      <th>187</th>\n",
       "      <td>188</td>\n",
       "      <td>OnePlus</td>\n",
       "      <td>Avinash jindal</td>\n",
       "      <td>bad handset  dislike</td>\n",
       "      <td>1</td>\n",
       "      <td>2020</td>\n",
       "    </tr>\n",
       "    <tr>\n",
       "      <th>204</th>\n",
       "      <td>205</td>\n",
       "      <td>OnePlus</td>\n",
       "      <td>akshat biswal</td>\n",
       "      <td>Bad experience of purchasing oneplus nord.  So...</td>\n",
       "      <td>1</td>\n",
       "      <td>2020</td>\n",
       "    </tr>\n",
       "    <tr>\n",
       "      <th>244</th>\n",
       "      <td>245</td>\n",
       "      <td>OnePlus</td>\n",
       "      <td>GAURAV BADHAN</td>\n",
       "      <td>Bluetooth issue  Bluetooth issue</td>\n",
       "      <td>1</td>\n",
       "      <td>2020</td>\n",
       "    </tr>\n",
       "    <tr>\n",
       "      <th>277</th>\n",
       "      <td>278</td>\n",
       "      <td>Redmi</td>\n",
       "      <td>Raveesh Sharma</td>\n",
       "      <td>Not recommended for anyone who takes photos  P...</td>\n",
       "      <td>1</td>\n",
       "      <td>2020</td>\n",
       "    </tr>\n",
       "    <tr>\n",
       "      <th>320</th>\n",
       "      <td>321</td>\n",
       "      <td>Redmi</td>\n",
       "      <td>mitul chonani</td>\n",
       "      <td>Camera is poor and mobile hang device  Mobile ...</td>\n",
       "      <td>1</td>\n",
       "      <td>2020</td>\n",
       "    </tr>\n",
       "    <tr>\n",
       "      <th>331</th>\n",
       "      <td>332</td>\n",
       "      <td>Redmi</td>\n",
       "      <td>SURAJ YADAV</td>\n",
       "      <td>Question about the originality and new product...</td>\n",
       "      <td>1</td>\n",
       "      <td>2020</td>\n",
       "    </tr>\n",
       "    <tr>\n",
       "      <th>354</th>\n",
       "      <td>355</td>\n",
       "      <td>Redmi</td>\n",
       "      <td>Balkrishan Pandey</td>\n",
       "      <td>wrost phone  phone autoswtichoff, network not ...</td>\n",
       "      <td>1</td>\n",
       "      <td>2020</td>\n",
       "    </tr>\n",
       "    <tr>\n",
       "      <th>385</th>\n",
       "      <td>386</td>\n",
       "      <td>Redmi</td>\n",
       "      <td>VINOD SOMVANSHI</td>\n",
       "      <td>Faulty product delivered by Amazon  Don't go f...</td>\n",
       "      <td>1</td>\n",
       "      <td>2020</td>\n",
       "    </tr>\n",
       "    <tr>\n",
       "      <th>402</th>\n",
       "      <td>403</td>\n",
       "      <td>Redmi</td>\n",
       "      <td>Akash peelwa</td>\n",
       "      <td>PLZZ read this before Wasting your money.  PLZ...</td>\n",
       "      <td>1</td>\n",
       "      <td>2020</td>\n",
       "    </tr>\n",
       "    <tr>\n",
       "      <th>440</th>\n",
       "      <td>441</td>\n",
       "      <td>Redmi</td>\n",
       "      <td>Gagan nirwan</td>\n",
       "      <td>It's spoil my mood hanging phone  The product ...</td>\n",
       "      <td>1</td>\n",
       "      <td>2020</td>\n",
       "    </tr>\n",
       "    <tr>\n",
       "      <th>473</th>\n",
       "      <td>474</td>\n",
       "      <td>Redmi</td>\n",
       "      <td>RADHEESH M R</td>\n",
       "      <td>Not worth for money  Worst mobile i have purch...</td>\n",
       "      <td>1</td>\n",
       "      <td>2020</td>\n",
       "    </tr>\n",
       "    <tr>\n",
       "      <th>476</th>\n",
       "      <td>477</td>\n",
       "      <td>Redmi</td>\n",
       "      <td>Asar azancy</td>\n",
       "      <td>Waste product  Better dont by this mobile with...</td>\n",
       "      <td>1</td>\n",
       "      <td>2020</td>\n",
       "    </tr>\n",
       "  </tbody>\n",
       "</table>\n",
       "</div>"
      ],
      "text/plain": [
       "      Id product_company          profile_name  \\\n",
       "4      5         OnePlus                     S   \n",
       "15    16         OnePlus           Sameer Kazi   \n",
       "17    18         OnePlus               KN Babu   \n",
       "19    20         OnePlus       Amazon Customer   \n",
       "24    25         OnePlus               Unknown   \n",
       "26    27         OnePlus        kishore ippili   \n",
       "50    51         OnePlus                  SMIT   \n",
       "52    53         OnePlus          Rajai Bhavik   \n",
       "54    55         OnePlus                 deena   \n",
       "66    67         OnePlus       Amazon Customer   \n",
       "68    69         OnePlus                Pankaj   \n",
       "79    80         OnePlus                   Raj   \n",
       "91    92         OnePlus  ONE PLUS NORD ISSUE    \n",
       "92    93         OnePlus       Amazon Customer   \n",
       "99   100         OnePlus        yash srivastav   \n",
       "105  106         OnePlus                  raju   \n",
       "107  108         OnePlus                 Harry   \n",
       "132  133         OnePlus    pollam vinod yadav   \n",
       "135  136         OnePlus              Harshita   \n",
       "140  141         OnePlus            Dr.Brijesh   \n",
       "145  146         OnePlus       CHETHANGOWDA NS   \n",
       "158  159         OnePlus                Aneesh   \n",
       "165  166         OnePlus       Amazon Customer   \n",
       "179  180         OnePlus     Sunil Vishawkarma   \n",
       "182  183         OnePlus          Ajas thoufiq   \n",
       "184  185         OnePlus       Amazon Customer   \n",
       "187  188         OnePlus        Avinash jindal   \n",
       "204  205         OnePlus         akshat biswal   \n",
       "244  245         OnePlus         GAURAV BADHAN   \n",
       "277  278           Redmi        Raveesh Sharma   \n",
       "320  321           Redmi        mitul chonani    \n",
       "331  332           Redmi           SURAJ YADAV   \n",
       "354  355           Redmi     Balkrishan Pandey   \n",
       "385  386           Redmi       VINOD SOMVANSHI   \n",
       "402  403           Redmi          Akash peelwa   \n",
       "440  441           Redmi          Gagan nirwan   \n",
       "473  474           Redmi          RADHEESH M R   \n",
       "476  477           Redmi           Asar azancy   \n",
       "\n",
       "                                                Review  Rating  year  \n",
       "4    Gets heated up very fast  I used Google maps n...       1  2020  \n",
       "15   Waste of money  Don't buy this phone..got this...       1  2020  \n",
       "17   Useless  Phone is ok .but there is reboot prob...       1  2020  \n",
       "19                  Waste  Overall not worth the money       1  2020  \n",
       "24   Network issue  Phone is having some network is...       1  2020  \n",
       "26                         Not bad  Tuch is not proper       1  2020  \n",
       "50   Do not buy mobile with amazon online ,worst mo...       1  2020  \n",
       "52   Display tint issue  Facing purple n green disp...       1  2020  \n",
       "54   Camera quality not good  Camera quality not go...       1  2020  \n",
       "66   Battery Drain Issue  My OnePlus Nord mobile ha...       1  2020  \n",
       "68                 Very poor  Very poor battery backup       1  2020  \n",
       "79   Not a good performer  This review comes out af...       1  2020  \n",
       "91   Wifi network connection issue  Wifi network co...       1  2020  \n",
       "92   Worst Phone Don't Buy  I am using dual  sims. ...       1  2020  \n",
       "99   don't buy this phone  the phone crashed within...       1  2020  \n",
       "105            Calling not clarity  I am not satisfied       1  2020  \n",
       "107     Totally waste of money  Rubbish camera quality       1  2020  \n",
       "132  Nord is a flop moblie it just created a hype  ...       1  2020  \n",
       "135  Not happy with the product  Returning window o...       1  2020  \n",
       "140  Mobile Internet accessibility and Bluetooth is...       1  2020  \n",
       "145  BATTERY BACKUP IS NOT GOOD  Mobile was super ,...       1  2020  \n",
       "158  Display issue and touch issue  I was charging ...       1  2020  \n",
       "165                                    👎  Bad Speakers       1  2020  \n",
       "179  Battery life is not good  Battery life is not ...       1  2020  \n",
       "182      Worst product from oneplus  Dont buy this phn       1  2020  \n",
       "184  Worst experience  Pls don't buy OnePlus device...       1  2020  \n",
       "187                               bad handset  dislike       1  2020  \n",
       "204  Bad experience of purchasing oneplus nord.  So...       1  2020  \n",
       "244                   Bluetooth issue  Bluetooth issue       1  2020  \n",
       "277  Not recommended for anyone who takes photos  P...       1  2020  \n",
       "320  Camera is poor and mobile hang device  Mobile ...       1  2020  \n",
       "331  Question about the originality and new product...       1  2020  \n",
       "354  wrost phone  phone autoswtichoff, network not ...       1  2020  \n",
       "385  Faulty product delivered by Amazon  Don't go f...       1  2020  \n",
       "402  PLZZ read this before Wasting your money.  PLZ...       1  2020  \n",
       "440  It's spoil my mood hanging phone  The product ...       1  2020  \n",
       "473  Not worth for money  Worst mobile i have purch...       1  2020  \n",
       "476  Waste product  Better dont by this mobile with...       1  2020  "
      ]
     },
     "execution_count": 101,
     "metadata": {},
     "output_type": "execute_result"
    }
   ],
   "source": [
    "df[df['Rating'] ==1]"
   ]
  },
  {
   "cell_type": "code",
   "execution_count": 34,
   "metadata": {},
   "outputs": [
    {
     "data": {
      "text/plain": [
       "48"
      ]
     },
     "execution_count": 34,
     "metadata": {},
     "output_type": "execute_result"
    }
   ],
   "source": [
    "df[df['Rating'] ==1].count()[0]"
   ]
  },
  {
   "attachments": {},
   "cell_type": "markdown",
   "metadata": {},
   "source": [
    "Taking a Negative Sample"
   ]
  },
  {
   "cell_type": "code",
   "execution_count": 108,
   "metadata": {},
   "outputs": [
    {
     "name": "stdout",
     "output_type": "stream",
     "text": [
      "Worst product from oneplus  Dont buy this phn\n"
     ]
    }
   ],
   "source": [
    "nexample = df['Review'][182]\n",
    "print(nexample)"
   ]
  },
  {
   "attachments": {},
   "cell_type": "markdown",
   "metadata": {},
   "source": [
    "# ---------Stating Sentiment Analysis---------\n",
    "### To Create a Sentiment Model\n",
    " \n",
    "#### 1, Preprocess the text data\n",
    "#### ----string replace and removing\n",
    "#### ----stemmening\n",
    "#### ----tokennization\n",
    "#### ----stop words\n",
    "#### ----POS tagging\n",
    "#### ----NER\n",
    "#### 2, Vectorize the text data\n",
    "#### 3, Train a model\n",
    "#### ----Rule-based approaches\n",
    "#### ----Machine learning approaches\n",
    "#### ----Hybrid approaches\n",
    "#### 4, Test the model\n",
    "#### 5, Predict the sentiment of new text"
   ]
  },
  {
   "attachments": {},
   "cell_type": "markdown",
   "metadata": {},
   "source": [
    "### \"Just had the most amazing meal at @restaurant_name! The service was top-notch and the food was absolutely delicious. #foodie #yum #happy #satisfied 😋😍\""
   ]
  },
  {
   "attachments": {},
   "cell_type": "markdown",
   "metadata": {},
   "source": [
    "##  TextBlob"
   ]
  },
  {
   "cell_type": "code",
   "execution_count": 109,
   "metadata": {},
   "outputs": [
    {
     "name": "stdout",
     "output_type": "stream",
     "text": [
      "Sentiment(polarity=0.625, subjectivity=0.6)\n"
     ]
    }
   ],
   "source": [
    "from textblob import TextBlob\n",
    "text = \"I love using TextBlob for sentiment analysis!\"\n",
    "blob = TextBlob(text)\n",
    "print(blob.sentiment) "
   ]
  },
  {
   "cell_type": "code",
   "execution_count": 110,
   "metadata": {},
   "outputs": [
    {
     "name": "stdout",
     "output_type": "stream",
     "text": [
      "Sentiment(polarity=-1.0, subjectivity=0.9)\n"
     ]
    }
   ],
   "source": [
    "text = \"I hate it!\"\n",
    "blob = TextBlob(text)\n",
    "print(blob.sentiment) "
   ]
  },
  {
   "attachments": {},
   "cell_type": "markdown",
   "metadata": {},
   "source": [
    "Checking for the Positive Example"
   ]
  },
  {
   "cell_type": "code",
   "execution_count": 111,
   "metadata": {},
   "outputs": [
    {
     "name": "stdout",
     "output_type": "stream",
     "text": [
      "Nice camera quality.good product  Very good product.nice camera quality.\n",
      "Sentiment(polarity=0.7549999999999999, subjectivity=0.8900000000000001)\n"
     ]
    }
   ],
   "source": [
    "print(pexample)\n",
    "text=pexample\n",
    "blob = TextBlob(text)\n",
    "print(blob.sentiment) "
   ]
  },
  {
   "attachments": {},
   "cell_type": "markdown",
   "metadata": {},
   "source": [
    "Checking for the Negative Example"
   ]
  },
  {
   "cell_type": "code",
   "execution_count": 112,
   "metadata": {},
   "outputs": [
    {
     "name": "stdout",
     "output_type": "stream",
     "text": [
      "Worst product from oneplus  Dont buy this phn\n",
      "Sentiment(polarity=-1.0, subjectivity=1.0)\n"
     ]
    }
   ],
   "source": [
    "print(nexample)\n",
    "text=nexample\n",
    "blob = TextBlob(text)\n",
    "print(blob.sentiment) "
   ]
  },
  {
   "cell_type": "code",
   "execution_count": 113,
   "metadata": {},
   "outputs": [
    {
     "name": "stdout",
     "output_type": "stream",
     "text": [
      "Sentiment(polarity=0.7583333333333333, subjectivity=0.9)\n"
     ]
    }
   ],
   "source": [
    "text = \"Just had the most amazing meal at @restaurant_name! The service was top-notch and the food was absolutely delicious. #foodie #yum #happy #satisfied 😋😍\"\n",
    "blob = TextBlob(text) \n",
    "r=blob.sentiment\n",
    "print(blob.sentiment) "
   ]
  },
  {
   "cell_type": "code",
   "execution_count": 114,
   "metadata": {},
   "outputs": [
    {
     "name": "stdout",
     "output_type": "stream",
     "text": [
      "Sentiment(polarity=0.0, subjectivity=0.0)\n"
     ]
    }
   ],
   "source": [
    "text='😍'\n",
    "blob = TextBlob(text)\n",
    "r=blob.sentiment\n",
    "print(blob.sentiment) "
   ]
  },
  {
   "cell_type": "code",
   "execution_count": 115,
   "metadata": {},
   "outputs": [
    {
     "name": "stdout",
     "output_type": "stream",
     "text": [
      "Sentiment(polarity=0.0, subjectivity=0.0)\n"
     ]
    }
   ],
   "source": [
    "text='#food @kochi'\n",
    "blob = TextBlob(text)\n",
    "r=blob.sentiment\n",
    "print(blob.sentiment) "
   ]
  },
  {
   "attachments": {},
   "cell_type": "markdown",
   "metadata": {},
   "source": [
    "## VADER (Valence Aware Dictionary and sEntiment Reasoner) \n",
    "\n",
    "positive sentiment : (compound score >= 0.05) \n",
    "\n",
    "neutral sentiment : (compound score > -0.05) and (compound score < 0.05) \n",
    "\n",
    "negative sentiment : (compound score <= -0.05)"
   ]
  },
  {
   "cell_type": "code",
   "execution_count": 116,
   "metadata": {},
   "outputs": [],
   "source": [
    "from nltk.sentiment import SentimentIntensityAnalyzer\n",
    "from tqdm.notebook import tqdm\n",
    "sia = SentimentIntensityAnalyzer()"
   ]
  },
  {
   "cell_type": "code",
   "execution_count": 117,
   "metadata": {},
   "outputs": [
    {
     "data": {
      "text/plain": [
       "{'neg': 0.0, 'neu': 0.264, 'pos': 0.736, 'compound': 0.4199}"
      ]
     },
     "execution_count": 117,
     "metadata": {},
     "output_type": "execute_result"
    }
   ],
   "source": [
    "sia.polarity_scores('I like this!')"
   ]
  },
  {
   "cell_type": "code",
   "execution_count": 118,
   "metadata": {},
   "outputs": [
    {
     "data": {
      "text/plain": [
       "{'neg': 0.0, 'neu': 0.589, 'pos': 0.411, 'compound': 0.4199}"
      ]
     },
     "execution_count": 118,
     "metadata": {},
     "output_type": "execute_result"
    }
   ],
   "source": [
    "sia.polarity_scores('I like this!  #food  #cool @kochi')"
   ]
  },
  {
   "cell_type": "code",
   "execution_count": 119,
   "metadata": {},
   "outputs": [
    {
     "data": {
      "text/plain": [
       "{'neg': 0.8, 'neu': 0.2, 'pos': 0.0, 'compound': -0.6114}"
      ]
     },
     "execution_count": 119,
     "metadata": {},
     "output_type": "execute_result"
    }
   ],
   "source": [
    "sia.polarity_scores('I hate this!')"
   ]
  },
  {
   "cell_type": "code",
   "execution_count": 120,
   "metadata": {},
   "outputs": [
    {
     "data": {
      "text/plain": [
       "{'neg': 0.0, 'neu': 0.527, 'pos': 0.473, 'compound': 0.6696}"
      ]
     },
     "execution_count": 120,
     "metadata": {},
     "output_type": "execute_result"
    }
   ],
   "source": [
    "sia.polarity_scores('I love using VADER for sentiment analysis! 😍')"
   ]
  },
  {
   "cell_type": "code",
   "execution_count": 121,
   "metadata": {},
   "outputs": [
    {
     "name": "stdout",
     "output_type": "stream",
     "text": [
      "Sentiment(polarity=0.625, subjectivity=0.6)\n"
     ]
    }
   ],
   "source": [
    "text = \"I love using VADER for sentiment analysis! 😍\"\n",
    "blob = TextBlob(text)\n",
    "print(blob.sentiment) "
   ]
  },
  {
   "cell_type": "code",
   "execution_count": 122,
   "metadata": {},
   "outputs": [
    {
     "name": "stdout",
     "output_type": "stream",
     "text": [
      "Nice camera quality.good product  Very good product.nice camera quality.\n"
     ]
    },
    {
     "data": {
      "text/plain": [
       "{'neg': 0.0, 'neu': 0.539, 'pos': 0.461, 'compound': 0.7178}"
      ]
     },
     "execution_count": 122,
     "metadata": {},
     "output_type": "execute_result"
    }
   ],
   "source": [
    "print(pexample)\n",
    "sia.polarity_scores(pexample)"
   ]
  },
  {
   "cell_type": "code",
   "execution_count": 123,
   "metadata": {},
   "outputs": [
    {
     "name": "stdout",
     "output_type": "stream",
     "text": [
      "Worst product from oneplus  Dont buy this phn\n"
     ]
    },
    {
     "data": {
      "text/plain": [
       "{'neg': 0.369, 'neu': 0.631, 'pos': 0.0, 'compound': -0.6249}"
      ]
     },
     "execution_count": 123,
     "metadata": {},
     "output_type": "execute_result"
    }
   ],
   "source": [
    "print(nexample)\n",
    "sia.polarity_scores(nexample)"
   ]
  },
  {
   "cell_type": "code",
   "execution_count": 124,
   "metadata": {},
   "outputs": [
    {
     "data": {
      "text/plain": [
       "{'neg': 0.0, 'neu': 0.0, 'pos': 0.0, 'compound': 0.0}"
      ]
     },
     "execution_count": 124,
     "metadata": {},
     "output_type": "execute_result"
    }
   ],
   "source": [
    "sia.polarity_scores('😍')"
   ]
  },
  {
   "cell_type": "code",
   "execution_count": 125,
   "metadata": {},
   "outputs": [
    {
     "data": {
      "text/plain": [
       "{'neg': 0.0, 'neu': 1.0, 'pos': 0.0, 'compound': 0.0}"
      ]
     },
     "execution_count": 125,
     "metadata": {},
     "output_type": "execute_result"
    }
   ],
   "source": [
    "sia.polarity_scores('#food #love #happy #good @kochi')"
   ]
  },
  {
   "attachments": {},
   "cell_type": "markdown",
   "metadata": {},
   "source": [
    "Run the polarity score on the entire dataset"
   ]
  },
  {
   "cell_type": "code",
   "execution_count": 126,
   "metadata": {},
   "outputs": [
    {
     "data": {
      "application/vnd.jupyter.widget-view+json": {
       "model_id": "bd694e90075049a1a5e4b11011f0f64f",
       "version_major": 2,
       "version_minor": 0
      },
      "text/plain": [
       "  0%|          | 0/500 [00:00<?, ?it/s]"
      ]
     },
     "metadata": {},
     "output_type": "display_data"
    }
   ],
   "source": [
    "res = {}\n",
    "for i, row in tqdm(df.iterrows(), total=len(df)):\n",
    "    text = row['Review']\n",
    "    myid = row['Id']\n",
    "    res[myid] = sia.polarity_scores(text)"
   ]
  },
  {
   "cell_type": "code",
   "execution_count": 127,
   "metadata": {},
   "outputs": [],
   "source": [
    "df1 = pd.DataFrame(res).T\n",
    "df1 = df1.reset_index().rename(columns={'index': 'Id'})\n",
    "df1 = df1.merge(df, how='left')"
   ]
  },
  {
   "cell_type": "code",
   "execution_count": 128,
   "metadata": {},
   "outputs": [
    {
     "data": {
      "text/html": [
       "<div>\n",
       "<style scoped>\n",
       "    .dataframe tbody tr th:only-of-type {\n",
       "        vertical-align: middle;\n",
       "    }\n",
       "\n",
       "    .dataframe tbody tr th {\n",
       "        vertical-align: top;\n",
       "    }\n",
       "\n",
       "    .dataframe thead th {\n",
       "        text-align: right;\n",
       "    }\n",
       "</style>\n",
       "<table border=\"1\" class=\"dataframe\">\n",
       "  <thead>\n",
       "    <tr style=\"text-align: right;\">\n",
       "      <th></th>\n",
       "      <th>Id</th>\n",
       "      <th>neg</th>\n",
       "      <th>neu</th>\n",
       "      <th>pos</th>\n",
       "      <th>compound</th>\n",
       "      <th>product_company</th>\n",
       "      <th>profile_name</th>\n",
       "      <th>Review</th>\n",
       "      <th>Rating</th>\n",
       "      <th>year</th>\n",
       "    </tr>\n",
       "  </thead>\n",
       "  <tbody>\n",
       "    <tr>\n",
       "      <th>0</th>\n",
       "      <td>1</td>\n",
       "      <td>0.0</td>\n",
       "      <td>0.328</td>\n",
       "      <td>0.672</td>\n",
       "      <td>0.6249</td>\n",
       "      <td>OnePlus</td>\n",
       "      <td>suraj t.</td>\n",
       "      <td>Oneplus  Awesome phone</td>\n",
       "      <td>5</td>\n",
       "      <td>2020</td>\n",
       "    </tr>\n",
       "    <tr>\n",
       "      <th>1</th>\n",
       "      <td>2</td>\n",
       "      <td>0.0</td>\n",
       "      <td>0.696</td>\n",
       "      <td>0.304</td>\n",
       "      <td>0.9286</td>\n",
       "      <td>OnePlus</td>\n",
       "      <td>Asvin Kannan</td>\n",
       "      <td>2020 best smartphone  One Plus nord is great p...</td>\n",
       "      <td>4</td>\n",
       "      <td>2020</td>\n",
       "    </tr>\n",
       "    <tr>\n",
       "      <th>2</th>\n",
       "      <td>3</td>\n",
       "      <td>0.0</td>\n",
       "      <td>0.760</td>\n",
       "      <td>0.240</td>\n",
       "      <td>0.8360</td>\n",
       "      <td>OnePlus</td>\n",
       "      <td>Sunil jaiswal</td>\n",
       "      <td>One plus nord for gaming  Inpubg network iisss...</td>\n",
       "      <td>5</td>\n",
       "      <td>2020</td>\n",
       "    </tr>\n",
       "    <tr>\n",
       "      <th>3</th>\n",
       "      <td>4</td>\n",
       "      <td>0.0</td>\n",
       "      <td>0.509</td>\n",
       "      <td>0.491</td>\n",
       "      <td>0.8655</td>\n",
       "      <td>OnePlus</td>\n",
       "      <td>Srikar</td>\n",
       "      <td>One of the best products from OnePlus  Absolut...</td>\n",
       "      <td>5</td>\n",
       "      <td>2020</td>\n",
       "    </tr>\n",
       "    <tr>\n",
       "      <th>4</th>\n",
       "      <td>5</td>\n",
       "      <td>0.0</td>\n",
       "      <td>0.889</td>\n",
       "      <td>0.111</td>\n",
       "      <td>0.3612</td>\n",
       "      <td>OnePlus</td>\n",
       "      <td>S</td>\n",
       "      <td>Gets heated up very fast  I used Google maps n...</td>\n",
       "      <td>1</td>\n",
       "      <td>2020</td>\n",
       "    </tr>\n",
       "  </tbody>\n",
       "</table>\n",
       "</div>"
      ],
      "text/plain": [
       "   Id  neg    neu    pos  compound product_company   profile_name  \\\n",
       "0   1  0.0  0.328  0.672    0.6249         OnePlus       suraj t.   \n",
       "1   2  0.0  0.696  0.304    0.9286         OnePlus   Asvin Kannan   \n",
       "2   3  0.0  0.760  0.240    0.8360         OnePlus  Sunil jaiswal   \n",
       "3   4  0.0  0.509  0.491    0.8655         OnePlus         Srikar   \n",
       "4   5  0.0  0.889  0.111    0.3612         OnePlus              S   \n",
       "\n",
       "                                              Review  Rating  year  \n",
       "0                             Oneplus  Awesome phone       5  2020  \n",
       "1  2020 best smartphone  One Plus nord is great p...       4  2020  \n",
       "2  One plus nord for gaming  Inpubg network iisss...       5  2020  \n",
       "3  One of the best products from OnePlus  Absolut...       5  2020  \n",
       "4  Gets heated up very fast  I used Google maps n...       1  2020  "
      ]
     },
     "execution_count": 128,
     "metadata": {},
     "output_type": "execute_result"
    }
   ],
   "source": [
    "df1.head()"
   ]
  },
  {
   "attachments": {},
   "cell_type": "markdown",
   "metadata": {},
   "source": [
    "VADER Compound Score By Review"
   ]
  },
  {
   "cell_type": "code",
   "execution_count": 129,
   "metadata": {},
   "outputs": [
    {
     "data": {
      "image/png": "[encoded data removed]",
      "text/plain": [
       "<Figure size 1080x576 with 1 Axes>"
      ]
     },
     "metadata": {},
     "output_type": "display_data"
    }
   ],
   "source": [
    "import matplotlib.pyplot as plt\n",
    "import seaborn as sns\n",
    "fig = plt.figure(figsize=(15, 8))\n",
    "ax = sns.barplot(data=df1, x='Rating', y='compound', ax=fig.gca())\n",
    "ax.set_title('Compound Score by Review')\n",
    "plt.show()"
   ]
  },
  {
   "cell_type": "code",
   "execution_count": 130,
   "metadata": {},
   "outputs": [
    {
     "data": {
      "image/png": "[encoded data removed]",
      "text/plain": [
       "<Figure size 1080x576 with 3 Axes>"
      ]
     },
     "metadata": {},
     "output_type": "display_data"
    }
   ],
   "source": [
    "fig, axs = plt.subplots(1, 3, figsize=(15, 8))\n",
    "sns.barplot(data=df1, x='Rating', y='pos', ax=axs[0])\n",
    "sns.barplot(data=df1, x='Rating', y='neu', ax=axs[1])\n",
    "sns.barplot(data=df1, x='Rating', y='neg', ax=axs[2])\n",
    "axs[0].set_title('Positive')\n",
    "axs[1].set_title('Neutral')\n",
    "axs[2].set_title('Negative')\n",
    "plt.tight_layout()\n",
    "plt.show()"
   ]
  },
  {
   "attachments": {},
   "cell_type": "markdown",
   "metadata": {},
   "source": [
    "## Roberta Model\n",
    "Twitter Roberta Base Sentiment Model\n",
    "\n",
    "Hugging Face model->\n",
    "<a href=\"https://huggingface.co/cardiffnlp/twitter-roberta-base-sentiment\" target=\"_blank\">link</a>"
   ]
  },
  {
   "cell_type": "code",
   "execution_count": 131,
   "metadata": {},
   "outputs": [],
   "source": [
    "from transformers import AutoTokenizer\n",
    "from transformers import AutoModelForSequenceClassification\n",
    "from scipy.special import softmax"
   ]
  },
  {
   "attachments": {},
   "cell_type": "markdown",
   "metadata": {},
   "source": [
    "Loading the Model"
   ]
  },
  {
   "cell_type": "code",
   "execution_count": 132,
   "metadata": {},
   "outputs": [],
   "source": [
    "MODEL = f\"cardiffnlp/twitter-roberta-base-sentiment\"\n",
    "tokenizer = AutoTokenizer.from_pretrained(MODEL)\n",
    "model = AutoModelForSequenceClassification.from_pretrained(MODEL)"
   ]
  },
  {
   "attachments": {},
   "cell_type": "markdown",
   "metadata": {},
   "source": [
    "RoBerta Result on Emoji"
   ]
  },
  {
   "cell_type": "code",
   "execution_count": 133,
   "metadata": {},
   "outputs": [
    {
     "name": "stdout",
     "output_type": "stream",
     "text": [
      "{'roberta_neg': 0.0014211949, 'roberta_neu': 0.011307179, 'roberta_pos': 0.9872717}\n"
     ]
    }
   ],
   "source": [
    "text ='I love using Roberta for sentiment analysis! 😍'\n",
    "encoded_text = tokenizer(text, return_tensors='pt')\n",
    "output = model(**encoded_text)\n",
    "scores = output[0][0].detach().numpy()\n",
    "scores = softmax(scores)\n",
    "scores_dict = {\n",
    "    'roberta_neg' : scores[0],\n",
    "    'roberta_neu' : scores[1],\n",
    "    'roberta_pos' : scores[2]\n",
    "}\n",
    "print(scores_dict)"
   ]
  },
  {
   "cell_type": "code",
   "execution_count": 134,
   "metadata": {},
   "outputs": [
    {
     "name": "stdout",
     "output_type": "stream",
     "text": [
      "{'roberta_neg': 0.020514732, 'roberta_neu': 0.16323356, 'roberta_pos': 0.81625175}\n"
     ]
    }
   ],
   "source": [
    "text = '😍'\n",
    "encoded_text = tokenizer(text, return_tensors='pt')\n",
    "output = model(**encoded_text)\n",
    "scores = output[0][0].detach().numpy()\n",
    "scores = softmax(scores)\n",
    "scores_dict = {\n",
    "    'roberta_neg' : scores[0],\n",
    "    'roberta_neu' : scores[1],\n",
    "    'roberta_pos' : scores[2]\n",
    "}\n",
    "print(scores_dict)"
   ]
  },
  {
   "cell_type": "code",
   "execution_count": 135,
   "metadata": {},
   "outputs": [
    {
     "name": "stdout",
     "output_type": "stream",
     "text": [
      "{'roberta_neg': 0.63880837, 'roberta_neu': 0.31810454, 'roberta_pos': 0.04308703}\n"
     ]
    }
   ],
   "source": [
    "text = '👎😡🤑'\n",
    "encoded_text = tokenizer(text, return_tensors='pt')\n",
    "output = model(**encoded_text)\n",
    "scores = output[0][0].detach().numpy()\n",
    "scores = softmax(scores)\n",
    "scores_dict = {\n",
    "    'roberta_neg' : scores[0],\n",
    "    'roberta_neu' : scores[1],\n",
    "    'roberta_pos' : scores[2]\n",
    "}\n",
    "print(scores_dict)"
   ]
  },
  {
   "cell_type": "code",
   "execution_count": 136,
   "metadata": {},
   "outputs": [
    {
     "name": "stdout",
     "output_type": "stream",
     "text": [
      "{'roberta_neg': 0.0012926505, 'roberta_neu': 0.029308438, 'roberta_pos': 0.969399}\n"
     ]
    }
   ],
   "source": [
    "text = '#food #love #happy #good @kochi'\n",
    "encoded_text = tokenizer(text, return_tensors='pt')\n",
    "output = model(**encoded_text)\n",
    "scores = output[0][0].detach().numpy()\n",
    "scores = softmax(scores)\n",
    "scores_dict = {\n",
    "    'roberta_neg' : scores[0],\n",
    "    'roberta_neu' : scores[1],\n",
    "    'roberta_pos' : scores[2]\n",
    "}\n",
    "print(scores_dict)"
   ]
  },
  {
   "attachments": {},
   "cell_type": "markdown",
   "metadata": {},
   "source": [
    "Working on the Positive Example"
   ]
  },
  {
   "cell_type": "code",
   "execution_count": 137,
   "metadata": {},
   "outputs": [
    {
     "name": "stdout",
     "output_type": "stream",
     "text": [
      "Nice camera quality.good product  Very good product.nice camera quality.\n",
      "{'roberta_neg': 0.00587894, 'roberta_neu': 0.05508315, 'roberta_pos': 0.9390379}\n"
     ]
    }
   ],
   "source": [
    "print(pexample)\n",
    "encoded_text = tokenizer(pexample, return_tensors='pt')\n",
    "output = model(**encoded_text)\n",
    "scores = output[0][0].detach().numpy()\n",
    "scores = softmax(scores)\n",
    "scores_dict = {\n",
    "    'roberta_neg' : scores[0],\n",
    "    'roberta_neu' : scores[1],\n",
    "    'roberta_pos' : scores[2]\n",
    "}\n",
    "print(scores_dict)"
   ]
  },
  {
   "attachments": {},
   "cell_type": "markdown",
   "metadata": {},
   "source": [
    "Working on the Negative Example"
   ]
  },
  {
   "cell_type": "code",
   "execution_count": 138,
   "metadata": {},
   "outputs": [
    {
     "name": "stdout",
     "output_type": "stream",
     "text": [
      "Worst product from oneplus  Dont buy this phn\n",
      "{'roberta_neg': 0.95960045, 'roberta_neu': 0.035454985, 'roberta_pos': 0.0049444987}\n"
     ]
    }
   ],
   "source": [
    "print(nexample)\n",
    "encoded_text = tokenizer(nexample, return_tensors='pt')\n",
    "output = model(**encoded_text)\n",
    "scores = output[0][0].detach().numpy()\n",
    "scores = softmax(scores)\n",
    "scores_dict = {\n",
    "    'roberta_neg' : scores[0],\n",
    "    'roberta_neu' : scores[1],\n",
    "    'roberta_pos' : scores[2]\n",
    "}\n",
    "print(scores_dict)"
   ]
  },
  {
   "attachments": {},
   "cell_type": "markdown",
   "metadata": {},
   "source": [
    "Roberta Model apply on the dataset"
   ]
  },
  {
   "cell_type": "code",
   "execution_count": 139,
   "metadata": {},
   "outputs": [],
   "source": [
    "def polarity_scores_roberta(example):\n",
    "    encoded_text = tokenizer(example, return_tensors='pt')\n",
    "    output = model(**encoded_text)\n",
    "    scores = output[0][0].detach().numpy()\n",
    "    scores = softmax(scores)\n",
    "    scores_dict = {\n",
    "        'roberta_neg' : scores[0],\n",
    "        'roberta_neu' : scores[1],\n",
    "        'roberta_pos' : scores[2]\n",
    "    }\n",
    "    compound_score = (scores[2] - scores[0]) / (scores[2] + scores[0] + scores[1])\n",
    "    scores_dict['roberta_compound'] = compound_score\n",
    "    return scores_dict"
   ]
  },
  {
   "cell_type": "code",
   "execution_count": 140,
   "metadata": {},
   "outputs": [
    {
     "data": {
      "application/vnd.jupyter.widget-view+json": {
       "model_id": "a9bc4c26699f4168b9033185db8da903",
       "version_major": 2,
       "version_minor": 0
      },
      "text/plain": [
       "  0%|          | 0/500 [00:00<?, ?it/s]"
      ]
     },
     "metadata": {},
     "output_type": "display_data"
    }
   ],
   "source": [
    "res = {}\n",
    "for i, row in tqdm(df.iterrows(), total=len(df)):\n",
    "    try:\n",
    "        text = row['Review']\n",
    "        myid = row['Id']\n",
    "        roberta_result = polarity_scores_roberta(text)\n",
    "        rob = {**roberta_result}\n",
    "        res[myid] = rob\n",
    "    except RuntimeError:\n",
    "        print()"
   ]
  },
  {
   "cell_type": "code",
   "execution_count": 141,
   "metadata": {},
   "outputs": [],
   "source": [
    "df2 = pd.DataFrame(res).T\n",
    "df2 = df2.reset_index().rename(columns={'index': 'Id'})\n",
    "df2.head()\n",
    "df2 = df2.merge(df1, how='left')"
   ]
  },
  {
   "cell_type": "code",
   "execution_count": 142,
   "metadata": {},
   "outputs": [],
   "source": [
    "df2.rename(columns={'neg': 'vader_neg','neu': 'vader_neu','pos': 'vader_pos','compound': 'vader_compound'}, inplace=True)"
   ]
  },
  {
   "cell_type": "code",
   "execution_count": 143,
   "metadata": {},
   "outputs": [
    {
     "data": {
      "text/html": [
       "<div>\n",
       "<style scoped>\n",
       "    .dataframe tbody tr th:only-of-type {\n",
       "        vertical-align: middle;\n",
       "    }\n",
       "\n",
       "    .dataframe tbody tr th {\n",
       "        vertical-align: top;\n",
       "    }\n",
       "\n",
       "    .dataframe thead th {\n",
       "        text-align: right;\n",
       "    }\n",
       "</style>\n",
       "<table border=\"1\" class=\"dataframe\">\n",
       "  <thead>\n",
       "    <tr style=\"text-align: right;\">\n",
       "      <th></th>\n",
       "      <th>Id</th>\n",
       "      <th>roberta_neg</th>\n",
       "      <th>roberta_neu</th>\n",
       "      <th>roberta_pos</th>\n",
       "      <th>roberta_compound</th>\n",
       "      <th>vader_neg</th>\n",
       "      <th>vader_neu</th>\n",
       "      <th>vader_pos</th>\n",
       "      <th>vader_compound</th>\n",
       "      <th>product_company</th>\n",
       "      <th>profile_name</th>\n",
       "      <th>Review</th>\n",
       "      <th>Rating</th>\n",
       "      <th>year</th>\n",
       "    </tr>\n",
       "  </thead>\n",
       "  <tbody>\n",
       "    <tr>\n",
       "      <th>0</th>\n",
       "      <td>1</td>\n",
       "      <td>0.001654</td>\n",
       "      <td>0.011787</td>\n",
       "      <td>0.986559</td>\n",
       "      <td>0.984905</td>\n",
       "      <td>0.0</td>\n",
       "      <td>0.328</td>\n",
       "      <td>0.672</td>\n",
       "      <td>0.6249</td>\n",
       "      <td>OnePlus</td>\n",
       "      <td>suraj t.</td>\n",
       "      <td>Oneplus  Awesome phone</td>\n",
       "      <td>5</td>\n",
       "      <td>2020</td>\n",
       "    </tr>\n",
       "    <tr>\n",
       "      <th>1</th>\n",
       "      <td>2</td>\n",
       "      <td>0.001474</td>\n",
       "      <td>0.011138</td>\n",
       "      <td>0.987389</td>\n",
       "      <td>0.985915</td>\n",
       "      <td>0.0</td>\n",
       "      <td>0.696</td>\n",
       "      <td>0.304</td>\n",
       "      <td>0.9286</td>\n",
       "      <td>OnePlus</td>\n",
       "      <td>Asvin Kannan</td>\n",
       "      <td>2020 best smartphone  One Plus nord is great p...</td>\n",
       "      <td>4</td>\n",
       "      <td>2020</td>\n",
       "    </tr>\n",
       "  </tbody>\n",
       "</table>\n",
       "</div>"
      ],
      "text/plain": [
       "   Id  roberta_neg  roberta_neu  roberta_pos  roberta_compound  vader_neg  \\\n",
       "0   1     0.001654     0.011787     0.986559          0.984905        0.0   \n",
       "1   2     0.001474     0.011138     0.987389          0.985915        0.0   \n",
       "\n",
       "   vader_neu  vader_pos  vader_compound product_company  profile_name  \\\n",
       "0      0.328      0.672          0.6249         OnePlus      suraj t.   \n",
       "1      0.696      0.304          0.9286         OnePlus  Asvin Kannan   \n",
       "\n",
       "                                              Review  Rating  year  \n",
       "0                             Oneplus  Awesome phone       5  2020  \n",
       "1  2020 best smartphone  One Plus nord is great p...       4  2020  "
      ]
     },
     "execution_count": 143,
     "metadata": {},
     "output_type": "execute_result"
    }
   ],
   "source": [
    "df2.head(2)"
   ]
  },
  {
   "cell_type": "code",
   "execution_count": 144,
   "metadata": {},
   "outputs": [
    {
     "data": {
      "image/png": "[encoded data removed]",
      "text/plain": [
       "<Figure size 1080x576 with 1 Axes>"
      ]
     },
     "metadata": {},
     "output_type": "display_data"
    }
   ],
   "source": [
    "import matplotlib.pyplot as plt\n",
    "import seaborn as sns\n",
    "fig = plt.figure(figsize=(15, 8))\n",
    "ax = sns.barplot(data=df2, x='Rating', y='roberta_compound', ax=fig.gca())\n",
    "ax.set_title('Roberta Compound Score by Review')\n",
    "plt.show()"
   ]
  },
  {
   "cell_type": "code",
   "execution_count": 145,
   "metadata": {},
   "outputs": [
    {
     "data": {
      "image/png": "[encoded data removed]",
      "text/plain": [
       "<Figure size 1080x576 with 3 Axes>"
      ]
     },
     "metadata": {},
     "output_type": "display_data"
    }
   ],
   "source": [
    "fig, axs = plt.subplots(1, 3, figsize=(15, 8))\n",
    "sns.barplot(data=df2, x='Rating', y='roberta_pos', ax=axs[0])\n",
    "sns.barplot(data=df2, x='Rating', y='roberta_neu', ax=axs[1])\n",
    "sns.barplot(data=df2, x='Rating', y='roberta_neg', ax=axs[2])\n",
    "axs[0].set_title('Positive')\n",
    "axs[1].set_title('Neutral')\n",
    "axs[2].set_title('Negative')\n",
    "plt.tight_layout()\n",
    "plt.show()"
   ]
  },
  {
   "cell_type": "code",
   "execution_count": 146,
   "metadata": {},
   "outputs": [
    {
     "data": {
      "text/html": [
       "<div>\n",
       "<style scoped>\n",
       "    .dataframe tbody tr th:only-of-type {\n",
       "        vertical-align: middle;\n",
       "    }\n",
       "\n",
       "    .dataframe tbody tr th {\n",
       "        vertical-align: top;\n",
       "    }\n",
       "\n",
       "    .dataframe thead th {\n",
       "        text-align: right;\n",
       "    }\n",
       "</style>\n",
       "<table border=\"1\" class=\"dataframe\">\n",
       "  <thead>\n",
       "    <tr style=\"text-align: right;\">\n",
       "      <th></th>\n",
       "      <th>Id</th>\n",
       "      <th>roberta_neg</th>\n",
       "      <th>roberta_neu</th>\n",
       "      <th>roberta_pos</th>\n",
       "      <th>roberta_compound</th>\n",
       "      <th>vader_neg</th>\n",
       "      <th>vader_neu</th>\n",
       "      <th>vader_pos</th>\n",
       "      <th>vader_compound</th>\n",
       "      <th>product_company</th>\n",
       "      <th>profile_name</th>\n",
       "      <th>Review</th>\n",
       "      <th>Rating</th>\n",
       "      <th>year</th>\n",
       "    </tr>\n",
       "  </thead>\n",
       "  <tbody>\n",
       "    <tr>\n",
       "      <th>0</th>\n",
       "      <td>1</td>\n",
       "      <td>0.001654</td>\n",
       "      <td>0.011787</td>\n",
       "      <td>0.986559</td>\n",
       "      <td>0.984905</td>\n",
       "      <td>0.0</td>\n",
       "      <td>0.328</td>\n",
       "      <td>0.672</td>\n",
       "      <td>0.6249</td>\n",
       "      <td>OnePlus</td>\n",
       "      <td>suraj t.</td>\n",
       "      <td>Oneplus  Awesome phone</td>\n",
       "      <td>5</td>\n",
       "      <td>2020</td>\n",
       "    </tr>\n",
       "    <tr>\n",
       "      <th>1</th>\n",
       "      <td>2</td>\n",
       "      <td>0.001474</td>\n",
       "      <td>0.011138</td>\n",
       "      <td>0.987389</td>\n",
       "      <td>0.985915</td>\n",
       "      <td>0.0</td>\n",
       "      <td>0.696</td>\n",
       "      <td>0.304</td>\n",
       "      <td>0.9286</td>\n",
       "      <td>OnePlus</td>\n",
       "      <td>Asvin Kannan</td>\n",
       "      <td>2020 best smartphone  One Plus nord is great p...</td>\n",
       "      <td>4</td>\n",
       "      <td>2020</td>\n",
       "    </tr>\n",
       "    <tr>\n",
       "      <th>2</th>\n",
       "      <td>3</td>\n",
       "      <td>0.001582</td>\n",
       "      <td>0.030595</td>\n",
       "      <td>0.967823</td>\n",
       "      <td>0.966241</td>\n",
       "      <td>0.0</td>\n",
       "      <td>0.760</td>\n",
       "      <td>0.240</td>\n",
       "      <td>0.8360</td>\n",
       "      <td>OnePlus</td>\n",
       "      <td>Sunil jaiswal</td>\n",
       "      <td>One plus nord for gaming  Inpubg network iisss...</td>\n",
       "      <td>5</td>\n",
       "      <td>2020</td>\n",
       "    </tr>\n",
       "    <tr>\n",
       "      <th>3</th>\n",
       "      <td>4</td>\n",
       "      <td>0.002123</td>\n",
       "      <td>0.009128</td>\n",
       "      <td>0.988749</td>\n",
       "      <td>0.986626</td>\n",
       "      <td>0.0</td>\n",
       "      <td>0.509</td>\n",
       "      <td>0.491</td>\n",
       "      <td>0.8655</td>\n",
       "      <td>OnePlus</td>\n",
       "      <td>Srikar</td>\n",
       "      <td>One of the best products from OnePlus  Absolut...</td>\n",
       "      <td>5</td>\n",
       "      <td>2020</td>\n",
       "    </tr>\n",
       "    <tr>\n",
       "      <th>4</th>\n",
       "      <td>5</td>\n",
       "      <td>0.455505</td>\n",
       "      <td>0.426788</td>\n",
       "      <td>0.117707</td>\n",
       "      <td>-0.337798</td>\n",
       "      <td>0.0</td>\n",
       "      <td>0.889</td>\n",
       "      <td>0.111</td>\n",
       "      <td>0.3612</td>\n",
       "      <td>OnePlus</td>\n",
       "      <td>S</td>\n",
       "      <td>Gets heated up very fast  I used Google maps n...</td>\n",
       "      <td>1</td>\n",
       "      <td>2020</td>\n",
       "    </tr>\n",
       "  </tbody>\n",
       "</table>\n",
       "</div>"
      ],
      "text/plain": [
       "   Id  roberta_neg  roberta_neu  roberta_pos  roberta_compound  vader_neg  \\\n",
       "0   1     0.001654     0.011787     0.986559          0.984905        0.0   \n",
       "1   2     0.001474     0.011138     0.987389          0.985915        0.0   \n",
       "2   3     0.001582     0.030595     0.967823          0.966241        0.0   \n",
       "3   4     0.002123     0.009128     0.988749          0.986626        0.0   \n",
       "4   5     0.455505     0.426788     0.117707         -0.337798        0.0   \n",
       "\n",
       "   vader_neu  vader_pos  vader_compound product_company   profile_name  \\\n",
       "0      0.328      0.672          0.6249         OnePlus       suraj t.   \n",
       "1      0.696      0.304          0.9286         OnePlus   Asvin Kannan   \n",
       "2      0.760      0.240          0.8360         OnePlus  Sunil jaiswal   \n",
       "3      0.509      0.491          0.8655         OnePlus         Srikar   \n",
       "4      0.889      0.111          0.3612         OnePlus              S   \n",
       "\n",
       "                                              Review  Rating  year  \n",
       "0                             Oneplus  Awesome phone       5  2020  \n",
       "1  2020 best smartphone  One Plus nord is great p...       4  2020  \n",
       "2  One plus nord for gaming  Inpubg network iisss...       5  2020  \n",
       "3  One of the best products from OnePlus  Absolut...       5  2020  \n",
       "4  Gets heated up very fast  I used Google maps n...       1  2020  "
      ]
     },
     "execution_count": 146,
     "metadata": {},
     "output_type": "execute_result"
    }
   ],
   "source": [
    "df2.head()"
   ]
  },
  {
   "attachments": {},
   "cell_type": "markdown",
   "metadata": {},
   "source": [
    "## Sentiment Score Analysis"
   ]
  },
  {
   "attachments": {},
   "cell_type": "markdown",
   "metadata": {},
   "source": [
    "### CASE 1"
   ]
  },
  {
   "attachments": {},
   "cell_type": "markdown",
   "metadata": {},
   "source": [
    "### Taking Reviews having Rating 5 and High Roberta Positive Score"
   ]
  },
  {
   "cell_type": "code",
   "execution_count": 147,
   "metadata": {},
   "outputs": [
    {
     "data": {
      "text/plain": [
       "array([350, 'Redmi',\n",
       "       'All features all very awesome I am happy and satisfied this mobile  I am very happy with this mobile awesome features and fabulous mobile I love it😍😍',\n",
       "       0.9928682446479797], dtype=object)"
      ]
     },
     "execution_count": 147,
     "metadata": {},
     "output_type": "execute_result"
    }
   ],
   "source": [
    "df2.query('Rating == 5')[['Id','product_company','Review','roberta_pos']].sort_values('roberta_pos', ascending=False).values[0]"
   ]
  },
  {
   "cell_type": "code",
   "execution_count": 159,
   "metadata": {},
   "outputs": [
    {
     "data": {
      "text/html": [
       "<div>\n",
       "<style scoped>\n",
       "    .dataframe tbody tr th:only-of-type {\n",
       "        vertical-align: middle;\n",
       "    }\n",
       "\n",
       "    .dataframe tbody tr th {\n",
       "        vertical-align: top;\n",
       "    }\n",
       "\n",
       "    .dataframe thead th {\n",
       "        text-align: right;\n",
       "    }\n",
       "</style>\n",
       "<table border=\"1\" class=\"dataframe\">\n",
       "  <thead>\n",
       "    <tr style=\"text-align: right;\">\n",
       "      <th></th>\n",
       "      <th>Review</th>\n",
       "      <th>vader_neg</th>\n",
       "      <th>vader_neu</th>\n",
       "      <th>vader_pos</th>\n",
       "      <th>vader_compound</th>\n",
       "      <th>roberta_neg</th>\n",
       "      <th>roberta_neu</th>\n",
       "      <th>roberta_pos</th>\n",
       "      <th>roberta_compound</th>\n",
       "    </tr>\n",
       "  </thead>\n",
       "  <tbody>\n",
       "    <tr>\n",
       "      <th>349</th>\n",
       "      <td>All features all very awesome I am happy and s...</td>\n",
       "      <td>0.0</td>\n",
       "      <td>0.385</td>\n",
       "      <td>0.615</td>\n",
       "      <td>0.982</td>\n",
       "      <td>0.001764</td>\n",
       "      <td>0.005368</td>\n",
       "      <td>0.992868</td>\n",
       "      <td>0.991104</td>\n",
       "    </tr>\n",
       "  </tbody>\n",
       "</table>\n",
       "</div>"
      ],
      "text/plain": [
       "                                                Review  vader_neg  vader_neu  \\\n",
       "349  All features all very awesome I am happy and s...        0.0      0.385   \n",
       "\n",
       "     vader_pos  vader_compound  roberta_neg  roberta_neu  roberta_pos  \\\n",
       "349      0.615           0.982     0.001764     0.005368     0.992868   \n",
       "\n",
       "     roberta_compound  \n",
       "349          0.991104  "
      ]
     },
     "execution_count": 159,
     "metadata": {},
     "output_type": "execute_result"
    }
   ],
   "source": [
    "df2.query('Id == 350')[['Review','vader_neg','vader_neu','vader_pos','vader_compound','roberta_neg','roberta_neu','roberta_pos','roberta_compound']]"
   ]
  },
  {
   "cell_type": "code",
   "execution_count": 149,
   "metadata": {},
   "outputs": [],
   "source": [
    "#######################################################"
   ]
  },
  {
   "attachments": {},
   "cell_type": "markdown",
   "metadata": {},
   "source": [
    "### CASE 2"
   ]
  },
  {
   "attachments": {},
   "cell_type": "markdown",
   "metadata": {},
   "source": [
    "### Taking Reviews having Rating 5 with RoBerta Negative Score"
   ]
  },
  {
   "cell_type": "code",
   "execution_count": 150,
   "metadata": {},
   "outputs": [
    {
     "data": {
      "text/plain": [
       "array([63, 'OnePlus', 'Camera qwality bad  Cemra qwality bad',\n",
       "       0.8225224018096924], dtype=object)"
      ]
     },
     "execution_count": 150,
     "metadata": {},
     "output_type": "execute_result"
    }
   ],
   "source": [
    "df2.query('Rating == 5')[['Id','product_company','Review','roberta_neg']].sort_values('roberta_neg', ascending=False).values[0]"
   ]
  },
  {
   "cell_type": "code",
   "execution_count": 160,
   "metadata": {},
   "outputs": [
    {
     "data": {
      "text/html": [
       "<div>\n",
       "<style scoped>\n",
       "    .dataframe tbody tr th:only-of-type {\n",
       "        vertical-align: middle;\n",
       "    }\n",
       "\n",
       "    .dataframe tbody tr th {\n",
       "        vertical-align: top;\n",
       "    }\n",
       "\n",
       "    .dataframe thead th {\n",
       "        text-align: right;\n",
       "    }\n",
       "</style>\n",
       "<table border=\"1\" class=\"dataframe\">\n",
       "  <thead>\n",
       "    <tr style=\"text-align: right;\">\n",
       "      <th></th>\n",
       "      <th>Review</th>\n",
       "      <th>vader_neg</th>\n",
       "      <th>vader_neu</th>\n",
       "      <th>vader_pos</th>\n",
       "      <th>vader_compound</th>\n",
       "      <th>roberta_neg</th>\n",
       "      <th>roberta_neu</th>\n",
       "      <th>roberta_pos</th>\n",
       "      <th>roberta_compound</th>\n",
       "    </tr>\n",
       "  </thead>\n",
       "  <tbody>\n",
       "    <tr>\n",
       "      <th>62</th>\n",
       "      <td>Camera qwality bad  Cemra qwality bad</td>\n",
       "      <td>0.636</td>\n",
       "      <td>0.364</td>\n",
       "      <td>0.0</td>\n",
       "      <td>-0.7906</td>\n",
       "      <td>0.822522</td>\n",
       "      <td>0.165976</td>\n",
       "      <td>0.011501</td>\n",
       "      <td>-0.811021</td>\n",
       "    </tr>\n",
       "  </tbody>\n",
       "</table>\n",
       "</div>"
      ],
      "text/plain": [
       "                                   Review  vader_neg  vader_neu  vader_pos  \\\n",
       "62  Camera qwality bad  Cemra qwality bad      0.636      0.364        0.0   \n",
       "\n",
       "    vader_compound  roberta_neg  roberta_neu  roberta_pos  roberta_compound  \n",
       "62         -0.7906     0.822522     0.165976     0.011501         -0.811021  "
      ]
     },
     "execution_count": 160,
     "metadata": {},
     "output_type": "execute_result"
    }
   ],
   "source": [
    "df2.query('Id == 63')[['Review','vader_neg','vader_neu','vader_pos','vader_compound','roberta_neg','roberta_neu','roberta_pos','roberta_compound']]"
   ]
  },
  {
   "attachments": {},
   "cell_type": "markdown",
   "metadata": {},
   "source": [
    "### CASE 3"
   ]
  },
  {
   "attachments": {},
   "cell_type": "markdown",
   "metadata": {},
   "source": [
    "### Taking Reviews having Rating 1 with RoBerta Positive Score"
   ]
  },
  {
   "cell_type": "code",
   "execution_count": 152,
   "metadata": {},
   "outputs": [
    {
     "data": {
      "text/plain": [
       "array([27, 'Not bad  Tuch is not proper', 0.14247772097587585],\n",
       "      dtype=object)"
      ]
     },
     "execution_count": 152,
     "metadata": {},
     "output_type": "execute_result"
    }
   ],
   "source": [
    "df2.query('Rating == 1')[['Id','Review','roberta_pos']].sort_values('roberta_pos', ascending=False).values[0]"
   ]
  },
  {
   "cell_type": "code",
   "execution_count": 161,
   "metadata": {},
   "outputs": [
    {
     "data": {
      "text/html": [
       "<div>\n",
       "<style scoped>\n",
       "    .dataframe tbody tr th:only-of-type {\n",
       "        vertical-align: middle;\n",
       "    }\n",
       "\n",
       "    .dataframe tbody tr th {\n",
       "        vertical-align: top;\n",
       "    }\n",
       "\n",
       "    .dataframe thead th {\n",
       "        text-align: right;\n",
       "    }\n",
       "</style>\n",
       "<table border=\"1\" class=\"dataframe\">\n",
       "  <thead>\n",
       "    <tr style=\"text-align: right;\">\n",
       "      <th></th>\n",
       "      <th>Review</th>\n",
       "      <th>vader_neg</th>\n",
       "      <th>vader_neu</th>\n",
       "      <th>vader_pos</th>\n",
       "      <th>vader_compound</th>\n",
       "      <th>roberta_neg</th>\n",
       "      <th>roberta_neu</th>\n",
       "      <th>roberta_pos</th>\n",
       "      <th>roberta_compound</th>\n",
       "    </tr>\n",
       "  </thead>\n",
       "  <tbody>\n",
       "    <tr>\n",
       "      <th>26</th>\n",
       "      <td>Not bad  Tuch is not proper</td>\n",
       "      <td>0.0</td>\n",
       "      <td>0.637</td>\n",
       "      <td>0.363</td>\n",
       "      <td>0.431</td>\n",
       "      <td>0.449685</td>\n",
       "      <td>0.407837</td>\n",
       "      <td>0.142478</td>\n",
       "      <td>-0.307207</td>\n",
       "    </tr>\n",
       "  </tbody>\n",
       "</table>\n",
       "</div>"
      ],
      "text/plain": [
       "                         Review  vader_neg  vader_neu  vader_pos  \\\n",
       "26  Not bad  Tuch is not proper        0.0      0.637      0.363   \n",
       "\n",
       "    vader_compound  roberta_neg  roberta_neu  roberta_pos  roberta_compound  \n",
       "26           0.431     0.449685     0.407837     0.142478         -0.307207  "
      ]
     },
     "execution_count": 161,
     "metadata": {},
     "output_type": "execute_result"
    }
   ],
   "source": [
    "df2.query('Id == 27')[['Review','vader_neg','vader_neu','vader_pos','vader_compound','roberta_neg','roberta_neu','roberta_pos','roberta_compound']]"
   ]
  },
  {
   "attachments": {},
   "cell_type": "markdown",
   "metadata": {},
   "source": [
    "###  CASE 4"
   ]
  },
  {
   "attachments": {},
   "cell_type": "markdown",
   "metadata": {},
   "source": [
    "### Taking Reviews having Rating 1 and high RoBerta Negative Score"
   ]
  },
  {
   "cell_type": "code",
   "execution_count": 154,
   "metadata": {},
   "outputs": [
    {
     "data": {
      "text/plain": [
       "array([441,\n",
       "       \"It's spoil my mood hanging phone  The product quality is very hated and hand many times I also face a error in camera modes also so this phone is problem house not happy\",\n",
       "       0.9775307774543762], dtype=object)"
      ]
     },
     "execution_count": 154,
     "metadata": {},
     "output_type": "execute_result"
    }
   ],
   "source": [
    "df2.query('Rating == 1')[['Id','Review','roberta_neg']].sort_values('roberta_neg', ascending=False).values[0]"
   ]
  },
  {
   "cell_type": "code",
   "execution_count": 162,
   "metadata": {},
   "outputs": [
    {
     "data": {
      "text/html": [
       "<div>\n",
       "<style scoped>\n",
       "    .dataframe tbody tr th:only-of-type {\n",
       "        vertical-align: middle;\n",
       "    }\n",
       "\n",
       "    .dataframe tbody tr th {\n",
       "        vertical-align: top;\n",
       "    }\n",
       "\n",
       "    .dataframe thead th {\n",
       "        text-align: right;\n",
       "    }\n",
       "</style>\n",
       "<table border=\"1\" class=\"dataframe\">\n",
       "  <thead>\n",
       "    <tr style=\"text-align: right;\">\n",
       "      <th></th>\n",
       "      <th>Review</th>\n",
       "      <th>vader_neg</th>\n",
       "      <th>vader_neu</th>\n",
       "      <th>vader_pos</th>\n",
       "      <th>vader_compound</th>\n",
       "      <th>roberta_neg</th>\n",
       "      <th>roberta_neu</th>\n",
       "      <th>roberta_pos</th>\n",
       "      <th>roberta_compound</th>\n",
       "    </tr>\n",
       "  </thead>\n",
       "  <tbody>\n",
       "    <tr>\n",
       "      <th>440</th>\n",
       "      <td>It's spoil my mood hanging phone  The product ...</td>\n",
       "      <td>0.304</td>\n",
       "      <td>0.614</td>\n",
       "      <td>0.082</td>\n",
       "      <td>-0.8565</td>\n",
       "      <td>0.977531</td>\n",
       "      <td>0.020316</td>\n",
       "      <td>0.002153</td>\n",
       "      <td>-0.975378</td>\n",
       "    </tr>\n",
       "  </tbody>\n",
       "</table>\n",
       "</div>"
      ],
      "text/plain": [
       "                                                Review  vader_neg  vader_neu  \\\n",
       "440  It's spoil my mood hanging phone  The product ...      0.304      0.614   \n",
       "\n",
       "     vader_pos  vader_compound  roberta_neg  roberta_neu  roberta_pos  \\\n",
       "440      0.082         -0.8565     0.977531     0.020316     0.002153   \n",
       "\n",
       "     roberta_compound  \n",
       "440         -0.975378  "
      ]
     },
     "execution_count": 162,
     "metadata": {},
     "output_type": "execute_result"
    }
   ],
   "source": [
    "df2.query('Id == 441')[['Review','vader_neg','vader_neu','vader_pos','vader_compound','roberta_neg','roberta_neu','roberta_pos','roberta_compound']]"
   ]
  },
  {
   "attachments": {},
   "cell_type": "markdown",
   "metadata": {},
   "source": [
    "# ---------------So Here Roberta working well--------------- "
   ]
  },
  {
   "cell_type": "code",
   "execution_count": 156,
   "metadata": {},
   "outputs": [
    {
     "data": {
      "text/plain": [
       "array(['OnePlus', 'Redmi'], dtype=object)"
      ]
     },
     "execution_count": 156,
     "metadata": {},
     "output_type": "execute_result"
    }
   ],
   "source": [
    "df2.product_company.unique()"
   ]
  },
  {
   "attachments": {},
   "cell_type": "markdown",
   "metadata": {},
   "source": [
    "## Over all"
   ]
  },
  {
   "cell_type": "code",
   "execution_count": 157,
   "metadata": {},
   "outputs": [
    {
     "name": "stdout",
     "output_type": "stream",
     "text": [
      "Overall sentiment score:  0.46762294\n",
      "Overall Rating:  4.016\n"
     ]
    }
   ],
   "source": [
    "overall_sentiment = df2[\"roberta_compound\"].mean()\n",
    "overall_Rating = df2[\"Rating\"].mean()\n",
    "print(\"Overall sentiment score: \", overall_sentiment)\n",
    "print(\"Overall Rating: \", overall_Rating)"
   ]
  },
  {
   "cell_type": "code",
   "execution_count": 158,
   "metadata": {},
   "outputs": [
    {
     "name": "stdout",
     "output_type": "stream",
     "text": [
      "product_company\n",
      "OnePlus    0.413335\n",
      "Redmi      0.521911\n",
      "Name: roberta_compound, dtype: float32\n",
      "product_company\n",
      "OnePlus    3.980\n",
      "Redmi      4.052\n",
      "Name: Rating, dtype: float64\n"
     ]
    }
   ],
   "source": [
    "senti = df2.groupby(\"product_company\")[\"roberta_compound\"].mean()\n",
    "rate = df2.groupby(\"product_company\")[\"Rating\"].mean()\n",
    "print(senti)\n",
    "print(rate)"
   ]
  },
  {
   "attachments": {},
   "cell_type": "markdown",
   "metadata": {},
   "source": [
    "# ----------------------------END----------------------------"
   ]
  }
 ],
 "metadata": {
  "kernelspec": {
   "display_name": "Python 3",
   "language": "python",
   "name": "python3"
  },
  "language_info": {
   "codemirror_mode": {
    "name": "ipython",
    "version": 3
   },
   "file_extension": ".py",
   "mimetype": "text/x-python",
   "name": "python",
   "nbconvert_exporter": "python",
   "pygments_lexer": "ipython3",
   "version": "3.10.5"
  },
  "orig_nbformat": 4,
  "vscode": {
   "interpreter": {
    "hash": "76d7c06053c3456e5600312cec90888656fc0ed30c03d8425b9dac6e4fc8e014"
   }
  }
 },
 "nbformat": 4,
 "nbformat_minor": 2
}
