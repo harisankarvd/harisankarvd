{
  "nbformat": 4,
  "nbformat_minor": 0,
  "metadata": {
    "colab": {
      "provenance": [],
      "authorship_tag": "ABX9TyNBQktLMhOuYcUki5aF2SZU",
      "include_colab_link": true
    },
    "kernelspec": {
      "name": "python3",
      "display_name": "Python 3"
    },
    "language_info": {
      "name": "python"
    }
  },
  "cells": [
    {
      "cell_type": "markdown",
      "metadata": {
        "id": "view-in-github",
        "colab_type": "text"
      },
      "source": [
        "<a href=\"https://colab.research.google.com/github/harisankarvd/harisankarvd/blob/main/CatDog.ipynb\" target=\"_parent\"><img src=\"https://colab.research.google.com/assets/colab-badge.svg\" alt=\"Open In Colab\"/></a>"
      ]
    },
    {
      "cell_type": "code",
      "execution_count": 1,
      "metadata": {
        "colab": {
          "base_uri": "https://localhost:8080/"
        },
        "id": "KNgKVoJxVSKw",
        "outputId": "f13cc086-85b2-4dc7-c70f-ec380703c6a7"
      },
      "outputs": [
        {
          "output_type": "stream",
          "name": "stdout",
          "text": [
            "Mounted at drive\n"
          ]
        }
      ],
      "source": [
        "from google.colab import drive\n",
        "drive.mount('drive')"
      ]
    },
    {
      "cell_type": "code",
      "source": [],
      "metadata": {
        "id": "tY9hJZ3rhvVq"
      },
      "execution_count": 1,
      "outputs": []
    },
    {
      "cell_type": "code",
      "source": [
        "import pandas as pd\n",
        "import os\n",
        "from skimage.transform import resize\n",
        "from skimage.io import imread \n",
        "import numpy as np\n",
        "import array as arr"
      ],
      "metadata": {
        "id": "l-xkHJuWVohb"
      },
      "execution_count": 2,
      "outputs": []
    },
    {
      "cell_type": "code",
      "source": [
        "os.listdir('/content/drive/MyDrive/dc')"
      ],
      "metadata": {
        "colab": {
          "base_uri": "https://localhost:8080/"
        },
        "id": "iLbCBSM4Wuzc",
        "outputId": "9aef987c-c310-4b8c-902e-901240296698"
      },
      "execution_count": 3,
      "outputs": [
        {
          "output_type": "execute_result",
          "data": {
            "text/plain": [
              "['Cat', 'Dog', 'ddd.jpg', 'dog.jpg']"
            ]
          },
          "metadata": {},
          "execution_count": 3
        }
      ]
    },
    {
      "cell_type": "code",
      "source": [
        "os.listdir('/content/drive/MyDrive/dc/Dog')"
      ],
      "metadata": {
        "colab": {
          "base_uri": "https://localhost:8080/"
        },
        "id": "7Z-6mUfLWu1v",
        "outputId": "f8bad49d-7636-437b-9d80-efbad0bfae7c"
      },
      "execution_count": 4,
      "outputs": [
        {
          "output_type": "execute_result",
          "data": {
            "text/plain": [
              "['dog.14.jpg',\n",
              " 'dog.12.jpg',\n",
              " 'dog.13.jpg',\n",
              " 'dog.15.jpg',\n",
              " 'dog.16.jpg',\n",
              " 'dog.18.jpg',\n",
              " 'dog.21.jpg',\n",
              " 'dog.24.jpg',\n",
              " 'dog.22.jpg',\n",
              " 'dog.17.jpg',\n",
              " 'dog.20.jpg',\n",
              " 'dog.23.jpg',\n",
              " 'dog.19.jpg',\n",
              " 'dog.27.jpg',\n",
              " 'dog.30.jpg',\n",
              " 'dog.25.jpg',\n",
              " 'dog.31.jpg',\n",
              " 'dog.32.jpg',\n",
              " 'dog.33.jpg',\n",
              " 'dog.26.jpg',\n",
              " 'dog.28.jpg',\n",
              " 'dog.57.jpg',\n",
              " 'dog.46.jpg',\n",
              " 'dog.48.jpg',\n",
              " 'dog.42.jpg',\n",
              " 'dog.36.jpg',\n",
              " 'dog.51.jpg',\n",
              " 'dog.58.jpg',\n",
              " 'dog.55.jpg',\n",
              " 'dog.47.jpg',\n",
              " 'dog.39.jpg',\n",
              " 'dog.60.jpg',\n",
              " 'dog.56.jpg',\n",
              " 'dog.44.jpg',\n",
              " 'dog.34.jpg',\n",
              " 'dog.40.jpg',\n",
              " 'dog.45.jpg',\n",
              " 'dog.35.jpg',\n",
              " 'dog.38.jpg',\n",
              " 'dog.66.jpg',\n",
              " 'dog.64.jpg',\n",
              " 'dog.65.jpg',\n",
              " 'dog.78.jpg',\n",
              " 'dog.80.jpg',\n",
              " 'dog.63.jpg',\n",
              " 'dog.82.jpg',\n",
              " 'dog.68.jpg',\n",
              " 'dog.61.jpg',\n",
              " 'dog.69.jpg',\n",
              " 'dog.79.jpg',\n",
              " 'dog.67.jpg',\n",
              " 'dog.71.jpg',\n",
              " 'dog.70.jpg',\n",
              " 'dog.81.jpg',\n",
              " 'dog.76.jpg',\n",
              " 'dog.77.jpg',\n",
              " 'download1.jpeg',\n",
              " 'download2.jpeg',\n",
              " 'download3.jpeg',\n",
              " 'download4.jpeg',\n",
              " 'download5.jpeg',\n",
              " 'download6.jpeg',\n",
              " 'images.jpeg',\n",
              " 'images1.jpeg',\n",
              " 'download7.jpeg',\n",
              " 'download8.jpeg']"
            ]
          },
          "metadata": {},
          "execution_count": 4
        }
      ]
    },
    {
      "cell_type": "code",
      "source": [
        "len('/content/drive/MyDrive/dc/Dog')"
      ],
      "metadata": {
        "colab": {
          "base_uri": "https://localhost:8080/"
        },
        "id": "6xrTOvI7Wu4u",
        "outputId": "1d7be310-5cdb-4562-bbf8-4f764ef2aefd"
      },
      "execution_count": 5,
      "outputs": [
        {
          "output_type": "execute_result",
          "data": {
            "text/plain": [
              "29"
            ]
          },
          "metadata": {},
          "execution_count": 5
        }
      ]
    },
    {
      "cell_type": "code",
      "source": [
        "len('/content/drive/MyDrive/dc/Cat')"
      ],
      "metadata": {
        "colab": {
          "base_uri": "https://localhost:8080/"
        },
        "id": "sRoFjG-NWu7h",
        "outputId": "f3a6041f-789c-48de-adb0-6f0cb60b14fc"
      },
      "execution_count": 6,
      "outputs": [
        {
          "output_type": "execute_result",
          "data": {
            "text/plain": [
              "29"
            ]
          },
          "metadata": {},
          "execution_count": 6
        }
      ]
    },
    {
      "cell_type": "code",
      "source": [
        "catpath=os.path.join('/content/drive/MyDrive/dc','cat')\n",
        "len(catpath)"
      ],
      "metadata": {
        "colab": {
          "base_uri": "https://localhost:8080/"
        },
        "id": "z1XIHjiPWu-G",
        "outputId": "eea0b31a-20a5-4038-b992-46df43ccbe9d"
      },
      "execution_count": 7,
      "outputs": [
        {
          "output_type": "execute_result",
          "data": {
            "text/plain": [
              "29"
            ]
          },
          "metadata": {},
          "execution_count": 7
        }
      ]
    },
    {
      "cell_type": "code",
      "source": [
        "dogpath=os.path.join('/content/drive/MyDrive/dc','Dog')\n",
        "len(catpath)"
      ],
      "metadata": {
        "colab": {
          "base_uri": "https://localhost:8080/"
        },
        "id": "_BrnBDjgWvAy",
        "outputId": "a2e8d4a0-f2c5-4a3b-947a-4603654fff00"
      },
      "execution_count": 8,
      "outputs": [
        {
          "output_type": "execute_result",
          "data": {
            "text/plain": [
              "29"
            ]
          },
          "metadata": {},
          "execution_count": 8
        }
      ]
    },
    {
      "cell_type": "code",
      "source": [
        "#change image to numeric values\n",
        "flat_data_arr=[]#save featurs\n",
        "target_arr=[]#for labeling\n",
        "categories=['Cat','Dog']#cat=0  dog=1"
      ],
      "metadata": {
        "id": "ixcoJxgFWvDM"
      },
      "execution_count": 9,
      "outputs": []
    },
    {
      "cell_type": "code",
      "source": [
        "datadir='/content/drive/MyDrive/dc'\n",
        "for i in categories:\n",
        "  print('Category: ',i)\n",
        "  path=os.path.join(datadir,i)#cat path\n",
        "  for img in os.listdir(path):\n",
        "    img_arr=imread(os.path.join(path,img))#cat - img path\n",
        "    img_resize=resize(img_arr,(150,150,3))\n",
        "    flat_data_arr.append(img_resize.flatten())\n",
        "    target_arr.append(categories.index(i))\n",
        "  print(\"Loaded \",i)\n"
      ],
      "metadata": {
        "colab": {
          "base_uri": "https://localhost:8080/"
        },
        "id": "VyNw4AXiWvFu",
        "outputId": "9d290eb1-118a-4dbd-b073-e3a2e81c3dba"
      },
      "execution_count": null,
      "outputs": [
        {
          "output_type": "stream",
          "name": "stdout",
          "text": [
            "Category:  Cat\n",
            "Loaded  Cat\n",
            "Category:  Dog\n"
          ]
        }
      ]
    },
    {
      "cell_type": "code",
      "source": [
        "df=pd.DataFrame(flat_data_arr)\n",
        "df"
      ],
      "metadata": {
        "id": "wmL9M9lEWvH3"
      },
      "execution_count": null,
      "outputs": []
    },
    {
      "cell_type": "code",
      "source": [
        "df['target']=target_arr\n",
        "df"
      ],
      "metadata": {
        "id": "deQEEaBFWvT2"
      },
      "execution_count": null,
      "outputs": []
    },
    {
      "cell_type": "code",
      "source": [
        "x=df.iloc[:,:-1]\n",
        "x"
      ],
      "metadata": {
        "id": "X7QIwJZtWvV7"
      },
      "execution_count": null,
      "outputs": []
    },
    {
      "cell_type": "code",
      "source": [
        "y=df.iloc[:,-1]\n",
        "y"
      ],
      "metadata": {
        "id": "unySEWv1WvYg"
      },
      "execution_count": null,
      "outputs": []
    },
    {
      "cell_type": "code",
      "source": [
        "from sklearn.model_selection import train_test_split\n",
        "xt,xs,yt,ys=train_test_split(x,y,test_size=0.3,random_state=1)"
      ],
      "metadata": {
        "id": "myQbEnk2lMRo"
      },
      "execution_count": null,
      "outputs": []
    },
    {
      "cell_type": "code",
      "source": [
        "from sklearn.svm import SVC\n",
        "s=SVC()\n",
        "s.fit(xt,yt)"
      ],
      "metadata": {
        "id": "6oxWBPBOlMWw"
      },
      "execution_count": null,
      "outputs": []
    },
    {
      "cell_type": "code",
      "source": [
        "yp=s.predict(xs)"
      ],
      "metadata": {
        "id": "LiHVweKjlMZX"
      },
      "execution_count": null,
      "outputs": []
    },
    {
      "cell_type": "code",
      "source": [
        "from sklearn.metrics import classification_report,ConfusionMatrixDisplay,accuracy_score\n",
        "print(classification_report(ys,yp))"
      ],
      "metadata": {
        "id": "F8tpMRMflMcV"
      },
      "execution_count": null,
      "outputs": []
    },
    {
      "cell_type": "code",
      "source": [
        "print(ConfusionMatrixDisplay.from_predictions(ys,yp))"
      ],
      "metadata": {
        "id": "BtWcW4cMlMev"
      },
      "execution_count": null,
      "outputs": []
    },
    {
      "cell_type": "code",
      "source": [
        "path='/content/drive/MyDrive/dc/dog.jpg'\n",
        "img_arr=imread(path)\n",
        "imgre=resize(img_arr,(150,150,3)).flatten().reshape(1,-1)\n",
        "s.predict(imgre)"
      ],
      "metadata": {
        "id": "WKmjRtqIlMhX"
      },
      "execution_count": null,
      "outputs": []
    }
  ]
}